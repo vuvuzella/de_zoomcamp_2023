{
 "cells": [
  {
   "cell_type": "code",
   "execution_count": 1,
   "id": "7bcd0174",
   "metadata": {},
   "outputs": [
    {
     "name": "stdout",
     "output_type": "stream",
     "text": [
      "23/02/26 21:47:11 WARN Utils: Your hostname, vuvuzella-ThinkPad-X1-Extreme resolves to a loopback address: 127.0.1.1; using 192.168.20.18 instead (on interface wlp0s20f3)\n",
      "23/02/26 21:47:11 WARN Utils: Set SPARK_LOCAL_IP if you need to bind to another address\n"
     ]
    },
    {
     "name": "stderr",
     "output_type": "stream",
     "text": [
      "Setting default log level to \"WARN\".\n",
      "To adjust logging level use sc.setLogLevel(newLevel). For SparkR, use setLogLevel(newLevel).\n"
     ]
    },
    {
     "name": "stdout",
     "output_type": "stream",
     "text": [
      "23/02/26 21:47:12 WARN NativeCodeLoader: Unable to load native-hadoop library for your platform... using builtin-java classes where applicable\n"
     ]
    }
   ],
   "source": [
    "from pyspark.sql import SparkSession\n",
    "\n",
    "spark = SparkSession.builder \\\n",
    "        .appName(\"default\") \\\n",
    "        .master(\"local[*]\") \\\n",
    "        .config(\"spark.executor.memory\", \"2048mb\") \\\n",
    "        .getOrCreate()"
   ]
  },
  {
   "cell_type": "code",
   "execution_count": 2,
   "id": "c354992c",
   "metadata": {},
   "outputs": [
    {
     "name": "stderr",
     "output_type": "stream",
     "text": [
      "                                                                                \r"
     ]
    }
   ],
   "source": [
    "data_dir = \"../data/pq\"\n",
    "df_green = spark.read.parquet(f\"{data_dir}/green/*/*/*\")\n",
    "df_yellow = spark.read.parquet(f\"{data_dir}/yellow/*/*/*\")"
   ]
  },
  {
   "cell_type": "code",
   "execution_count": 3,
   "id": "ff8efd6f",
   "metadata": {},
   "outputs": [
    {
     "name": "stdout",
     "output_type": "stream",
     "text": [
      "root\n",
      " |-- VendorID: integer (nullable = true)\n",
      " |-- lpep_pickup_datetime: timestamp (nullable = true)\n",
      " |-- lpep_dropoff_datetime: timestamp (nullable = true)\n",
      " |-- store_and_fwd_flag: string (nullable = true)\n",
      " |-- RatecodeID: integer (nullable = true)\n",
      " |-- PULocationID: integer (nullable = true)\n",
      " |-- DOLocationID: integer (nullable = true)\n",
      " |-- passenger_count: integer (nullable = true)\n",
      " |-- trip_distance: double (nullable = true)\n",
      " |-- fare_amount: double (nullable = true)\n",
      " |-- extra: double (nullable = true)\n",
      " |-- mta_tax: double (nullable = true)\n",
      " |-- tip_amount: double (nullable = true)\n",
      " |-- tolls_amount: double (nullable = true)\n",
      " |-- ehail_fee: double (nullable = true)\n",
      " |-- improvement_surcharge: double (nullable = true)\n",
      " |-- total_amount: double (nullable = true)\n",
      " |-- payment_type: integer (nullable = true)\n",
      " |-- trip_type: integer (nullable = true)\n",
      " |-- congestion_surcharge: double (nullable = true)\n",
      "\n"
     ]
    }
   ],
   "source": [
    "df_green.printSchema()"
   ]
  },
  {
   "cell_type": "code",
   "execution_count": 4,
   "id": "ed5be5d8",
   "metadata": {},
   "outputs": [
    {
     "name": "stdout",
     "output_type": "stream",
     "text": [
      "root\n",
      " |-- VendorID: integer (nullable = true)\n",
      " |-- tpep_pickup_datetime: timestamp (nullable = true)\n",
      " |-- tpep_dropoff_datetime: timestamp (nullable = true)\n",
      " |-- passenger_count: integer (nullable = true)\n",
      " |-- trip_distance: double (nullable = true)\n",
      " |-- RatecodeID: integer (nullable = true)\n",
      " |-- store_and_fwd_flag: string (nullable = true)\n",
      " |-- PULocationID: integer (nullable = true)\n",
      " |-- DOLocationID: integer (nullable = true)\n",
      " |-- payment_type: integer (nullable = true)\n",
      " |-- fare_amount: double (nullable = true)\n",
      " |-- extra: double (nullable = true)\n",
      " |-- mta_tax: double (nullable = true)\n",
      " |-- tip_amount: double (nullable = true)\n",
      " |-- tolls_amount: double (nullable = true)\n",
      " |-- improvement_surcharge: double (nullable = true)\n",
      " |-- total_amount: double (nullable = true)\n",
      " |-- congestion_surcharge: double (nullable = true)\n",
      "\n"
     ]
    }
   ],
   "source": [
    "df_yellow.printSchema()"
   ]
  },
  {
   "cell_type": "code",
   "execution_count": 6,
   "id": "a6ec13d6",
   "metadata": {},
   "outputs": [],
   "source": [
    "df_green_renamed = df_green \\\n",
    "    .withColumnRenamed(\"lpep_pickup_datetime\", \"pickup_datetime\") \\\n",
    "    .withColumnRenamed(\"lpep_dropoff_datetime\", \"dropoff_datetime\")\n",
    "df_yellow_renamed = df_yellow \\\n",
    "    .withColumnRenamed(\"tpep_pickup_datetime\", \"pickup_datetime\") \\\n",
    "    .withColumnRenamed(\"tpep_dropoff_datetime\", \"dropoff_datetime\")"
   ]
  },
  {
   "cell_type": "code",
   "execution_count": 7,
   "id": "ab3558e8",
   "metadata": {},
   "outputs": [
    {
     "data": {
      "text/plain": [
       "['VendorID',\n",
       " 'pickup_datetime',\n",
       " 'dropoff_datetime',\n",
       " 'store_and_fwd_flag',\n",
       " 'RatecodeID',\n",
       " 'PULocationID',\n",
       " 'DOLocationID',\n",
       " 'passenger_count',\n",
       " 'trip_distance',\n",
       " 'fare_amount',\n",
       " 'extra',\n",
       " 'mta_tax',\n",
       " 'tip_amount',\n",
       " 'tolls_amount',\n",
       " 'ehail_fee',\n",
       " 'improvement_surcharge',\n",
       " 'total_amount',\n",
       " 'payment_type',\n",
       " 'trip_type',\n",
       " 'congestion_surcharge']"
      ]
     },
     "execution_count": 7,
     "metadata": {},
     "output_type": "execute_result"
    }
   ],
   "source": [
    "df_green_renamed.columns"
   ]
  },
  {
   "cell_type": "code",
   "execution_count": 8,
   "id": "8f45c5be",
   "metadata": {},
   "outputs": [
    {
     "data": {
      "text/plain": [
       "['VendorID',\n",
       " 'pickup_datetime',\n",
       " 'dropoff_datetime',\n",
       " 'passenger_count',\n",
       " 'trip_distance',\n",
       " 'RatecodeID',\n",
       " 'store_and_fwd_flag',\n",
       " 'PULocationID',\n",
       " 'DOLocationID',\n",
       " 'payment_type',\n",
       " 'fare_amount',\n",
       " 'extra',\n",
       " 'mta_tax',\n",
       " 'tip_amount',\n",
       " 'tolls_amount',\n",
       " 'improvement_surcharge',\n",
       " 'total_amount',\n",
       " 'congestion_surcharge']"
      ]
     },
     "execution_count": 8,
     "metadata": {},
     "output_type": "execute_result"
    }
   ],
   "source": [
    "df_yellow_renamed.columns"
   ]
  },
  {
   "cell_type": "code",
   "execution_count": 18,
   "id": "9ab38895",
   "metadata": {},
   "outputs": [],
   "source": [
    "common_columns = list(set(df_green_renamed.columns) & set(df_yellow_renamed.columns))"
   ]
  },
  {
   "cell_type": "code",
   "execution_count": 19,
   "id": "8855a1f6",
   "metadata": {},
   "outputs": [],
   "source": [
    "from pyspark.sql import functions as F"
   ]
  },
  {
   "cell_type": "code",
   "execution_count": 20,
   "id": "0c615e9e",
   "metadata": {},
   "outputs": [],
   "source": [
    "df_green_enriched = df_green_renamed\\\n",
    "    .select(common_columns) \\\n",
    "    .withColumn(\"service_type\", F.lit(\"green\"))\n",
    "df_yellow_enriched = df_yellow_renamed\\\n",
    "    .select(common_columns) \\\n",
    "    .withColumn(\"service_type\", F.lit(\"yellow\"))"
   ]
  },
  {
   "cell_type": "code",
   "execution_count": 21,
   "id": "5b6bb966",
   "metadata": {},
   "outputs": [],
   "source": [
    "# combine them into 1\n",
    "df_trips_data = df_green_enriched \\\n",
    "    .unionAll(df_yellow_enriched)"
   ]
  },
  {
   "cell_type": "code",
   "execution_count": 22,
   "id": "828c0417",
   "metadata": {},
   "outputs": [
    {
     "name": "stderr",
     "output_type": "stream",
     "text": [
      "[Stage 7:==================================================>      (23 + 3) / 26]\r"
     ]
    },
    {
     "name": "stdout",
     "output_type": "stream",
     "text": [
      "+------------+--------+\n",
      "|service_type|   count|\n",
      "+------------+--------+\n",
      "|       green| 2304517|\n",
      "|      yellow|39649199|\n",
      "+------------+--------+\n",
      "\n"
     ]
    },
    {
     "name": "stderr",
     "output_type": "stream",
     "text": [
      "\r",
      "                                                                                \r"
     ]
    }
   ],
   "source": [
    "df_trips_data.groupBy(\"service_type\").count().show()"
   ]
  },
  {
   "cell_type": "code",
   "execution_count": 23,
   "id": "02ecbe66",
   "metadata": {},
   "outputs": [],
   "source": [
    "df_trips_data.createOrReplaceTempView('trips_data')"
   ]
  },
  {
   "cell_type": "code",
   "execution_count": 24,
   "id": "3c884735",
   "metadata": {},
   "outputs": [
    {
     "data": {
      "text/plain": [
       "['fare_amount',\n",
       " 'tip_amount',\n",
       " 'trip_distance',\n",
       " 'total_amount',\n",
       " 'extra',\n",
       " 'PULocationID',\n",
       " 'payment_type',\n",
       " 'improvement_surcharge',\n",
       " 'dropoff_datetime',\n",
       " 'congestion_surcharge',\n",
       " 'RatecodeID',\n",
       " 'pickup_datetime',\n",
       " 'DOLocationID',\n",
       " 'passenger_count',\n",
       " 'VendorID',\n",
       " 'tolls_amount',\n",
       " 'mta_tax',\n",
       " 'store_and_fwd_flag',\n",
       " 'service_type']"
      ]
     },
     "execution_count": 24,
     "metadata": {},
     "output_type": "execute_result"
    }
   ],
   "source": [
    "df_trips_data.columns"
   ]
  },
  {
   "cell_type": "code",
   "execution_count": 26,
   "id": "c5fbc198",
   "metadata": {},
   "outputs": [],
   "source": [
    "# perform raw sql queries\n",
    "df_result = spark.sql(\"\"\"\n",
    "SELECT \n",
    "    -- Reveneue grouping \n",
    "    PULocationID AS revenue_zone,\n",
    "    date_trunc('month', pickup_datetime) AS revenue_month, \n",
    "    service_type, \n",
    "    -- Revenue calculation \n",
    "    SUM(fare_amount) AS revenue_monthly_fare,\n",
    "    SUM(extra) AS revenue_monthly_extra,\n",
    "    SUM(mta_tax) AS revenue_monthly_mta_tax,\n",
    "    SUM(tip_amount) AS revenue_monthly_tip_amount,\n",
    "    SUM(tolls_amount) AS revenue_monthly_tolls_amount,\n",
    "    SUM(improvement_surcharge) AS revenue_monthly_improvement_surcharge,\n",
    "    SUM(total_amount) AS revenue_monthly_total_amount,\n",
    "    SUM(congestion_surcharge) AS revenue_monthly_congestion_surcharge,\n",
    "    -- Additional calculations\n",
    "    AVG(passenger_count) AS avg_montly_passenger_count,\n",
    "    AVG(trip_distance) AS avg_montly_trip_distance\n",
    "FROM\n",
    "    trips_data\n",
    "GROUP BY\n",
    "    1, 2, 3\n",
    "\"\"\")"
   ]
  },
  {
   "cell_type": "code",
   "execution_count": 27,
   "id": "c34e8f29",
   "metadata": {},
   "outputs": [
    {
     "name": "stderr",
     "output_type": "stream",
     "text": [
      "[Stage 13:===================================================>    (24 + 2) / 26]\r"
     ]
    },
    {
     "name": "stdout",
     "output_type": "stream",
     "text": [
      "+------------+-------------------+------------+--------------------+---------------------+-----------------------+--------------------------+----------------------------+-------------------------------------+----------------------------+------------------------------------+--------------------------+------------------------+\n",
      "|revenue_zone|      revenue_month|service_type|revenue_monthly_fare|revenue_monthly_extra|revenue_monthly_mta_tax|revenue_monthly_tip_amount|revenue_monthly_tolls_amount|revenue_monthly_improvement_surcharge|revenue_monthly_total_amount|revenue_monthly_congestion_surcharge|avg_montly_passenger_count|avg_montly_trip_distance|\n",
      "+------------+-------------------+------------+--------------------+---------------------+-----------------------+--------------------------+----------------------------+-------------------------------------+----------------------------+------------------------------------+--------------------------+------------------------+\n",
      "|          55|2020-01-01 00:00:00|       green|   66796.46999999988|              2658.25|                  589.5|        225.66000000000003|          1844.5099999999868|                    541.5000000000092|           72709.69000000074|                               30.25|        1.5239206534422405|       9.333281553398068|\n",
      "|           3|2020-01-01 00:00:00|       green|  12951.510000000022|                885.5|                   87.0|                     44.18|           702.2400000000002|                   135.29999999999941|          14820.079999999978|                                 5.5|        1.0987654320987654|       6.408490196078429|\n",
      "|         181|2020-02-01 00:00:00|       green|   95812.82999999993|              4772.75|                 2947.0|         8803.909999999989|           694.0500000000004|                    1992.899999999877|          116901.39000000348|                              1436.0|         1.290180088345226|      2.9167700487372614|\n",
      "|          88|2020-02-01 00:00:00|       green|  3366.0800000000004|               229.25|                    7.0|                       0.0|          239.43000000000006|                    26.70000000000002|           3868.460000000001|                                 0.0|                       1.0|      10.510666666666667|\n",
      "|         190|2020-01-01 00:00:00|       green|             3786.02|                175.0|                   76.5|        242.16000000000008|                       24.48|                    62.69999999999976|           4419.360000000004|                               35.75|        1.4244604316546763|      3.5506912442396303|\n",
      "|          14|2020-01-01 00:00:00|       green|  44186.509999999886|               2549.0|                  345.5|                     257.0|          1285.8899999999967|                    412.2000000000099|          49090.699999999946|                               74.25|        1.0737704918032787|       6.876796973518292|\n",
      "|          29|2020-01-01 00:00:00|       green|  25023.050000000032|               1154.5|                  230.0|                    116.19|           802.9200000000002|                    225.0000000000028|          27554.409999999887|                                2.75|        1.1295681063122924|       7.838712753277714|\n",
      "|         127|2020-01-01 00:00:00|       green|  22044.200000000026|               878.75|                  441.0|         994.0300000000003|          481.67000000000024|                   329.40000000000674|          25470.699999999713|                               305.0|        1.1855309218203034|       4.772682717110913|\n",
      "|         221|2020-01-01 00:00:00|       green|               382.5|                  1.0|                    3.0|                       0.0|           85.67999999999999|                                  2.1|                      474.28|                                 0.0|        1.2857142857142858|      12.874285714285715|\n",
      "|          54|2020-02-01 00:00:00|       green|              2278.5|               101.75|                   46.5|        275.04999999999995|           85.67999999999999|                    34.80000000000004|           2947.480000000001|                               57.75|        1.1333333333333333|       4.141065573770492|\n",
      "|         158|2020-01-01 00:00:00|       green|   360.8500000000001|                13.75|                    0.0|                       0.0|                        30.6|                   2.6999999999999997|                       407.9|                                null|                      null|                   10.52|\n",
      "|          95|2020-02-01 00:00:00|       green|  147413.13999999964|               7644.0|                 5606.5|        12523.119999999963|          1893.0499999999931|                    3642.000000000141|           179325.0100000105|                               635.0|        1.3634437086092714|      2.7064648516863032|\n",
      "|          78|2020-02-01 00:00:00|       green|  17941.400000000027|              1258.25|                  173.0|                     68.74|           814.7500000000005|                   210.30000000000024|          20521.589999999953|                                22.0|        1.1583850931677018|       5.075233644859813|\n",
      "|           3|2020-02-01 00:00:00|       green|             9758.05|                853.0|                   45.5|                      1.68|           429.6700000000002|                   105.59999999999967|          11204.300000000007|                                 0.0|        1.4647887323943662|      6.0781401617250665|\n",
      "|         153|2020-02-01 00:00:00|       green|  3847.2899999999995|               286.25|                   57.5|                     39.99|                       90.77|                    58.49999999999993|           4391.300000000002|                                11.0|        1.2222222222222223|      3.9418316831683167|\n",
      "|         129|2020-01-01 00:00:00|       green|  120756.02999999931|              5641.25|                 4298.0|         5140.959999999999|          1726.0099999999893|                   2874.9000000002825|           141258.9000000082|                               772.5|        1.5201231330521034|      2.6745766170169367|\n",
      "|          61|2020-01-01 00:00:00|       green|   95118.76999999803|               6978.5|                 1236.5|                   1176.73|          1145.3799999999985|                   1260.8999999999003|          107306.63000000089|                               165.0|        1.2742130750605327|      3.9018475317642203|\n",
      "|          56|2020-01-01 00:00:00|       green|  23927.470000000034|               1648.5|                  265.0|                    142.16|           659.4200000000003|                    333.3000000000069|          26997.049999999737|                                22.0|        1.3625498007968126|       4.243021523178803|\n",
      "|         258|2020-02-01 00:00:00|       green|   8798.470000000003|                698.0|                   43.5|                     69.59|          297.31000000000006|                    87.29999999999981|          10001.620000000003|                                 5.5|        1.1363636363636365|       6.450679611650486|\n",
      "|          43|2020-01-01 00:00:00|       green|  57927.889999999985|              3114.75|                 2532.0|          9246.32000000005|           698.0600000000003|                    1553.399999999856|            84271.5200000039|                             10059.5|        1.3527444422585087|      2.4010591840643576|\n",
      "+------------+-------------------+------------+--------------------+---------------------+-----------------------+--------------------------+----------------------------+-------------------------------------+----------------------------+------------------------------------+--------------------------+------------------------+\n",
      "only showing top 20 rows\n",
      "\n"
     ]
    },
    {
     "name": "stderr",
     "output_type": "stream",
     "text": [
      "\r",
      "                                                                                \r"
     ]
    }
   ],
   "source": [
    "df_result.show()"
   ]
  },
  {
   "cell_type": "code",
   "execution_count": 29,
   "id": "1cd3c194",
   "metadata": {},
   "outputs": [
    {
     "name": "stderr",
     "output_type": "stream",
     "text": [
      "                                                                                \r"
     ]
    }
   ],
   "source": [
    "# write results back to a \"data lake\"\n",
    "df_result.coalesce(1).write.parquet(\"../data/report/revenue\", mode=\"overwrite\")"
   ]
  },
  {
   "cell_type": "code",
   "execution_count": null,
   "id": "61d7bebd",
   "metadata": {},
   "outputs": [],
   "source": []
  }
 ],
 "metadata": {
  "kernelspec": {
   "display_name": "Python 3 (ipykernel)",
   "language": "python",
   "name": "python3"
  },
  "language_info": {
   "codemirror_mode": {
    "name": "ipython",
    "version": 3
   },
   "file_extension": ".py",
   "mimetype": "text/x-python",
   "name": "python",
   "nbconvert_exporter": "python",
   "pygments_lexer": "ipython3",
   "version": "3.10.7"
  }
 },
 "nbformat": 4,
 "nbformat_minor": 5
}
