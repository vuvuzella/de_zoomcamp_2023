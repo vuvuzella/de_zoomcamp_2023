{
 "cells": [
  {
   "cell_type": "code",
   "execution_count": 36,
   "id": "e554e65d",
   "metadata": {},
   "outputs": [],
   "source": [
    "from pyspark.sql import SparkSession\n",
    "\n",
    "spark = SparkSession.builder \\\n",
    "        .master(\"local[*]\") \\\n",
    "        .appName(\"Yellow and Green Taxi Data\") \\\n",
    "        .getOrCreate()"
   ]
  },
  {
   "cell_type": "code",
   "execution_count": 37,
   "id": "c2ab7344",
   "metadata": {},
   "outputs": [],
   "source": [
    "yellow_spark_df = spark.read \\\n",
    "     .option(\"header\", \"true\") \\\n",
    "     .csv(\"../yellow/2020/yellow_tripdata_2020-01.csv.gz\")"
   ]
  },
  {
   "cell_type": "code",
   "execution_count": 38,
   "id": "d1ab0cb5",
   "metadata": {},
   "outputs": [
    {
     "name": "stdout",
     "output_type": "stream",
     "text": [
      "root\n",
      " |-- VendorID: string (nullable = true)\n",
      " |-- tpep_pickup_datetime: string (nullable = true)\n",
      " |-- tpep_dropoff_datetime: string (nullable = true)\n",
      " |-- passenger_count: string (nullable = true)\n",
      " |-- trip_distance: string (nullable = true)\n",
      " |-- RatecodeID: string (nullable = true)\n",
      " |-- store_and_fwd_flag: string (nullable = true)\n",
      " |-- PULocationID: string (nullable = true)\n",
      " |-- DOLocationID: string (nullable = true)\n",
      " |-- payment_type: string (nullable = true)\n",
      " |-- fare_amount: string (nullable = true)\n",
      " |-- extra: string (nullable = true)\n",
      " |-- mta_tax: string (nullable = true)\n",
      " |-- tip_amount: string (nullable = true)\n",
      " |-- tolls_amount: string (nullable = true)\n",
      " |-- improvement_surcharge: string (nullable = true)\n",
      " |-- total_amount: string (nullable = true)\n",
      " |-- congestion_surcharge: string (nullable = true)\n",
      "\n"
     ]
    }
   ],
   "source": [
    "yellow_spark_df.printSchema()"
   ]
  },
  {
   "cell_type": "code",
   "execution_count": 39,
   "id": "66520e8e",
   "metadata": {},
   "outputs": [],
   "source": [
    "import pandas as pd\n",
    "yellow_pd_df = pd.read_csv(\"../yellow/2020/yellow_tripdata_2020-01.csv.gz\", nrows=1000)"
   ]
  },
  {
   "cell_type": "code",
   "execution_count": 40,
   "id": "d4c84e6a",
   "metadata": {},
   "outputs": [
    {
     "data": {
      "text/plain": [
       "VendorID                   int64\n",
       "tpep_pickup_datetime      object\n",
       "tpep_dropoff_datetime     object\n",
       "passenger_count            int64\n",
       "trip_distance            float64\n",
       "RatecodeID                 int64\n",
       "store_and_fwd_flag        object\n",
       "PULocationID               int64\n",
       "DOLocationID               int64\n",
       "payment_type               int64\n",
       "fare_amount              float64\n",
       "extra                    float64\n",
       "mta_tax                  float64\n",
       "tip_amount               float64\n",
       "tolls_amount             float64\n",
       "improvement_surcharge    float64\n",
       "total_amount             float64\n",
       "congestion_surcharge     float64\n",
       "dtype: object"
      ]
     },
     "execution_count": 40,
     "metadata": {},
     "output_type": "execute_result"
    }
   ],
   "source": [
    "yellow_pd_df.dtypes"
   ]
  },
  {
   "cell_type": "code",
   "execution_count": 25,
   "id": "94ff332e",
   "metadata": {},
   "outputs": [
    {
     "name": "stderr",
     "output_type": "stream",
     "text": [
      "/home/vuvuzella/Documents/projects/de_zoomcamp/week_5/application/spark_app/.venv/lib/python3.10/site-packages/pyspark/sql/pandas/conversion.py:474: FutureWarning: iteritems is deprecated and will be removed in a future version. Use .items instead.\n",
      "  for column, series in pdf.iteritems():\n",
      "/home/vuvuzella/Documents/projects/de_zoomcamp/week_5/application/spark_app/.venv/lib/python3.10/site-packages/pyspark/sql/pandas/conversion.py:486: FutureWarning: iteritems is deprecated and will be removed in a future version. Use .items instead.\n",
      "  for column, series in pdf.iteritems():\n"
     ]
    },
    {
     "data": {
      "text/plain": [
       "StructType([StructField('VendorID', LongType(), True), StructField('tpep_pickup_datetime', StringType(), True), StructField('tpep_dropoff_datetime', StringType(), True), StructField('passenger_count', LongType(), True), StructField('trip_distance', DoubleType(), True), StructField('RatecodeID', LongType(), True), StructField('store_and_fwd_flag', StringType(), True), StructField('PULocationID', LongType(), True), StructField('DOLocationID', LongType(), True), StructField('payment_type', LongType(), True), StructField('fare_amount', DoubleType(), True), StructField('extra', DoubleType(), True), StructField('mta_tax', DoubleType(), True), StructField('tip_amount', DoubleType(), True), StructField('tolls_amount', DoubleType(), True), StructField('improvement_surcharge', DoubleType(), True), StructField('total_amount', DoubleType(), True), StructField('congestion_surcharge', DoubleType(), True)])"
      ]
     },
     "execution_count": 25,
     "metadata": {},
     "output_type": "execute_result"
    }
   ],
   "source": [
    "spark.createDataFrame(yellow_pd_df).schema"
   ]
  },
  {
   "cell_type": "code",
   "execution_count": 31,
   "id": "cce7f082",
   "metadata": {},
   "outputs": [],
   "source": [
    "from pyspark.sql import types\n",
    "\n",
    "yellow_schema = types.StructType(\n",
    "    [\n",
    "        types.StructField(\"VendorID\", types.IntegerType(), True),\n",
    "        types.StructField(\"tpep_pickup_datetime\", types.TimestampType(), True),\n",
    "        types.StructField(\"tpep_dropoff_datetime\", types.TimestampType(), True),\n",
    "        types.StructField(\"passenger_count\", types.IntegerType(), True),\n",
    "        types.StructField(\"trip_distance\", types.DoubleType(), True),\n",
    "        types.StructField(\"RatecodeID\", types.IntegerType(), True),\n",
    "        types.StructField(\"store_and_fwd_flag\", types.StringType(), True),\n",
    "        types.StructField(\"PULocationID\", types.IntegerType(), True),\n",
    "        types.StructField(\"DOLocationID\", types.IntegerType(), True),\n",
    "        types.StructField(\"payment_type\", types.IntegerType(), True),\n",
    "        types.StructField(\"fare_amount\", types.DoubleType(), True),\n",
    "        types.StructField(\"extra\", types.DoubleType(), True),\n",
    "        types.StructField(\"mta_tax\", types.DoubleType(), True),\n",
    "        types.StructField(\"tip_amount\", types.DoubleType(), True),\n",
    "        types.StructField(\"tolls_amount\", types.DoubleType(), True),\n",
    "        types.StructField(\"improvement_surcharge\", types.DoubleType(), True),\n",
    "        types.StructField(\"total_amount\", types.DoubleType(), True),\n",
    "        types.StructField(\"congestion_surcharge\", types.DoubleType(), True),\n",
    "    ]\n",
    ")"
   ]
  },
  {
   "cell_type": "code",
   "execution_count": 41,
   "id": "b17edce0",
   "metadata": {},
   "outputs": [],
   "source": [
    "pd_df_yellow = spark.read \\\n",
    "    .option(\"header\", \"true\") \\\n",
    "    .schema(yellow_schema) \\\n",
    "    .csv(\"../yellow/2020/yellow_tripdata_2020-01.csv.gz\")"
   ]
  },
  {
   "cell_type": "code",
   "execution_count": 42,
   "id": "dbac4e28",
   "metadata": {},
   "outputs": [
    {
     "name": "stderr",
     "output_type": "stream",
     "text": [
      "                                                                                \r"
     ]
    }
   ],
   "source": [
    "pd_df_yellow.repartition(4).write.parquet(\"../yellow/pq/2020/01\")"
   ]
  },
  {
   "cell_type": "code",
   "execution_count": null,
   "id": "17225fd7",
   "metadata": {},
   "outputs": [],
   "source": [
    "green_schema = types.StructType(\n",
    "    [\n",
    "        types.StructField(\"VendorID\", types.IntegerType(), True),\n",
    "        types.StructField(\"lpep_pickup_datetime\", types.TimestampType(), True),\n",
    "        types.StructField(\"lpep_dropoff_datetime\", types.TimestampType(), True),\n",
    "        types.StructField(\"passenger_count\", types.IntegerType(), True),\n",
    "        types.StructField(\"trip_distance\", types.DoubleType(), True),\n",
    "        types.StructField(\"RatecodeID\", types.IntegerType(), True),\n",
    "        types.StructField(\"store_and_fwd_flag\", types.StringType(), True),\n",
    "        types.StructField(\"PULocationID\", types.IntegerType(), True),\n",
    "        types.StructField(\"DOLocationID\", types.IntegerType(), True),\n",
    "        types.StructField(\"payment_type\", types.IntegerType(), True),\n",
    "        types.StructField(\"fare_amount\", types.DoubleType(), True),\n",
    "        types.StructField(\"extra\", types.DoubleType(), True),\n",
    "        types.StructField(\"mta_tax\", types.DoubleType(), True),\n",
    "        types.StructField(\"tip_amount\", types.DoubleType(), True),\n",
    "        types.StructField(\"tolls_amount\", types.DoubleType(), True),\n",
    "        types.StructField(\"improvement_surcharge\", types.DoubleType(), True),\n",
    "        types.StructField(\"total_amount\", types.DoubleType(), True),\n",
    "        types.StructField(\"congestion_surcharge\", types.DoubleType(), True),\n",
    "    ]\n",
    ")"
   ]
  }
 ],
 "metadata": {
  "kernelspec": {
   "display_name": "Python 3 (ipykernel)",
   "language": "python",
   "name": "python3"
  },
  "language_info": {
   "codemirror_mode": {
    "name": "ipython",
    "version": 3
   },
   "file_extension": ".py",
   "mimetype": "text/x-python",
   "name": "python",
   "nbconvert_exporter": "python",
   "pygments_lexer": "ipython3",
   "version": "3.10.7"
  }
 },
 "nbformat": 4,
 "nbformat_minor": 5
}
