{
 "cells": [
  {
   "cell_type": "code",
   "execution_count": 1,
   "id": "aa048134",
   "metadata": {},
   "outputs": [
    {
     "name": "stdout",
     "output_type": "stream",
     "text": [
      "23/02/27 07:40:21 WARN Utils: Your hostname, vuvuzella-ThinkPad-X1-Extreme resolves to a loopback address: 127.0.1.1; using 192.168.20.19 instead (on interface wlp0s20f3)\n",
      "23/02/27 07:40:21 WARN Utils: Set SPARK_LOCAL_IP if you need to bind to another address\n"
     ]
    },
    {
     "name": "stderr",
     "output_type": "stream",
     "text": [
      "Setting default log level to \"WARN\".\n",
      "To adjust logging level use sc.setLogLevel(newLevel). For SparkR, use setLogLevel(newLevel).\n"
     ]
    },
    {
     "name": "stdout",
     "output_type": "stream",
     "text": [
      "23/02/27 07:40:21 WARN NativeCodeLoader: Unable to load native-hadoop library for your platform... using builtin-java classes where applicable\n"
     ]
    }
   ],
   "source": [
    "from pyspark.sql import SparkSession\n",
    "\n",
    "spark = SparkSession.builder \\\n",
    "        .appName(\"default\") \\\n",
    "        .master(\"local[*]\") \\\n",
    "        .config(\"spark.executor.memory\", \"2048mb\") \\\n",
    "        .getOrCreate()"
   ]
  },
  {
   "cell_type": "code",
   "execution_count": 20,
   "id": "f22155c9",
   "metadata": {},
   "outputs": [],
   "source": [
    "data_dir = \"../data/raw\"\n",
    "filename = \"fvhv_tripdata_2021-06.csv.gz\""
   ]
  },
  {
   "cell_type": "code",
   "execution_count": 21,
   "id": "13b18b0c",
   "metadata": {},
   "outputs": [],
   "source": [
    "df_raw_fvhv = spark.read.option(\"header\", \"true\").csv(f\"{data_dir}/fvhv/2021/{filename}\")"
   ]
  },
  {
   "cell_type": "code",
   "execution_count": 22,
   "id": "d864a6cb",
   "metadata": {},
   "outputs": [],
   "source": [
    "from pyspark.sql.types import (\n",
    "    StructType,\n",
    "    StructField,\n",
    "    IntegerType,\n",
    "    DoubleType,\n",
    "    StringType,\n",
    "    TimestampType,\n",
    ")\n",
    "schema = StructType(\n",
    "        [\n",
    "            StructField(\"dispatching_base_num\", IntegerType(), True),\n",
    "            StructField(\"pickup_datetime\", TimestampType(), True),\n",
    "            StructField(\"dropoff_datetime\", TimestampType(), True),\n",
    "            StructField(\"PULocationID\", IntegerType(), True),\n",
    "            StructField(\"DOLocationID\", IntegerType(), True),\n",
    "            StructField(\"SR_Flag\", StringType(), True),\n",
    "            StructField(\"Affiliated_base_number\", StringType(), True),\n",
    "        ]\n",
    "    )"
   ]
  },
  {
   "cell_type": "code",
   "execution_count": 23,
   "id": "3a6ee15b",
   "metadata": {},
   "outputs": [],
   "source": [
    "data_dir = \"../data/pq/fvhv/2021\"\n",
    "df_spark_parquet = spark.read.schema(schema).parquet(f\"{data_dir}/*\")"
   ]
  },
  {
   "cell_type": "code",
   "execution_count": 24,
   "id": "25b0e7d0",
   "metadata": {},
   "outputs": [
    {
     "name": "stdout",
     "output_type": "stream",
     "text": [
      "root\n",
      " |-- dispatching_base_num: integer (nullable = true)\n",
      " |-- pickup_datetime: timestamp (nullable = true)\n",
      " |-- dropoff_datetime: timestamp (nullable = true)\n",
      " |-- PULocationID: integer (nullable = true)\n",
      " |-- DOLocationID: integer (nullable = true)\n",
      " |-- SR_Flag: string (nullable = true)\n",
      " |-- Affiliated_base_number: string (nullable = true)\n",
      "\n"
     ]
    }
   ],
   "source": [
    "df_spark_parquet.printSchema()"
   ]
  },
  {
   "cell_type": "code",
   "execution_count": 25,
   "id": "7f7425a2",
   "metadata": {},
   "outputs": [],
   "source": [
    "fvhv_columns = df_spark_parquet.columns\n",
    "df_spark_parquet.createOrReplaceTempView(\"fvhv_2021\")"
   ]
  },
  {
   "cell_type": "code",
   "execution_count": 26,
   "id": "0d651f87",
   "metadata": {},
   "outputs": [],
   "source": [
    "from pyspark.sql import functions as f"
   ]
  },
  {
   "cell_type": "code",
   "execution_count": 29,
   "id": "0c5c5028",
   "metadata": {},
   "outputs": [
    {
     "name": "stderr",
     "output_type": "stream",
     "text": [
      "                                                                                \r"
     ]
    },
    {
     "data": {
      "text/plain": [
       "452470"
      ]
     },
     "execution_count": 29,
     "metadata": {},
     "output_type": "execute_result"
    }
   ],
   "source": [
    "df_spark_parquet \\\n",
    "    .withColumn(\"pickup_date\", f.to_date(f.col(\"pickup_datetime\"))) \\\n",
    "    .filter(\"pickup_date == '2021-06-15'\") \\\n",
    "    .count()"
   ]
  },
  {
   "cell_type": "code",
   "execution_count": 36,
   "id": "0af6c793",
   "metadata": {},
   "outputs": [
    {
     "name": "stderr",
     "output_type": "stream",
     "text": [
      "[Stage 15:=========>                                              (2 + 10) / 12]\r"
     ]
    },
    {
     "name": "stdout",
     "output_type": "stream",
     "text": [
      "+--------------------+-------------------+-------------------+------------+------------+-------+----------------------+------------------+\n",
      "|dispatching_base_num|    pickup_datetime|   dropoff_datetime|PULocationID|DOLocationID|SR_Flag|Affiliated_base_number|    duration_hours|\n",
      "+--------------------+-------------------+-------------------+------------+------------+-------+----------------------+------------------+\n",
      "|                null|2021-06-25 13:55:41|2021-06-28 08:48:25|          98|         265|      N|                B02872|  66.8788888888889|\n",
      "|                null|2021-06-22 12:09:45|2021-06-23 13:42:44|         188|         198|      N|                B02765|25.549722222222222|\n",
      "|                null|2021-06-27 10:32:29|2021-06-28 06:31:20|          78|         169|      N|                B02879|19.980833333333333|\n",
      "|                null|2021-06-26 22:37:11|2021-06-27 16:49:01|         263|          36|      N|                  null|18.197222222222223|\n",
      "|                null|2021-06-23 20:40:43|2021-06-24 13:08:44|           3|         247|      N|                B02682|16.466944444444444|\n",
      "|                null|2021-06-23 22:03:31|2021-06-24 12:19:39|         186|         216|      N|                B02869|14.268888888888888|\n",
      "|                null|2021-06-24 23:11:00|2021-06-25 13:05:35|         181|          61|      N|                B02877|13.909722222222221|\n",
      "|                null|2021-06-04 20:56:02|2021-06-05 08:36:14|          53|         252|      N|                B02765|             11.67|\n",
      "|                null|2021-06-27 07:45:19|2021-06-27 19:07:16|         187|         245|      N|                B02617|11.365833333333333|\n",
      "|                null|2021-06-20 17:05:12|2021-06-21 04:04:16|         144|         231|      N|                B02880|10.984444444444444|\n",
      "|                null|2021-06-01 12:25:29|2021-06-01 22:41:32|          87|         265|      N|                B02866|           10.2675|\n",
      "|                null|2021-06-28 13:13:59|2021-06-28 23:11:58|          39|         131|      N|                B02882| 9.966388888888888|\n",
      "|                null|2021-06-01 12:01:46|2021-06-01 21:59:45|          17|          37|      N|                  null| 9.966388888888888|\n",
      "|                null|2021-06-27 03:52:14|2021-06-27 13:30:30|          42|         242|      N|                  null| 9.637777777777778|\n",
      "|                null|2021-06-18 08:50:29|2021-06-18 18:27:57|          39|         216|      N|                  null| 9.624444444444444|\n",
      "|                null|2021-06-08 16:38:14|2021-06-09 02:07:03|         106|         102|      N|                  null| 9.480277777777777|\n",
      "|                null|2021-06-11 23:26:20|2021-06-12 08:54:38|         132|         140|      N|                  null| 9.471666666666666|\n",
      "|                null|2021-06-15 06:47:22|2021-06-15 16:11:30|         141|         232|      N|                  null| 9.402222222222223|\n",
      "|                null|2021-06-25 02:32:24|2021-06-25 11:56:01|          87|         145|      N|                  null| 9.393611111111111|\n",
      "|                null|2021-06-04 17:41:23|2021-06-05 03:04:00|          26|         238|      N|                B02764| 9.376944444444444|\n",
      "+--------------------+-------------------+-------------------+------------+------------+-------+----------------------+------------------+\n",
      "only showing top 20 rows\n",
      "\n"
     ]
    },
    {
     "name": "stderr",
     "output_type": "stream",
     "text": [
      "\r",
      "                                                                                \r"
     ]
    }
   ],
   "source": [
    "df_spark_parquet \\\n",
    "    .withColumn(\"duration_hours\", (f.col(\"dropoff_datetime\").cast(\"long\") - f.col(\"pickup_datetime\").cast(\"long\")) / 3600 ) \\\n",
    "    .orderBy(f.col(\"duration_hours\").desc()) \\\n",
    "    .show()"
   ]
  },
  {
   "cell_type": "code",
   "execution_count": 42,
   "id": "6177d8a1",
   "metadata": {},
   "outputs": [
    {
     "data": {
      "text/plain": [
       "12322"
      ]
     },
     "execution_count": 42,
     "metadata": {},
     "output_type": "execute_result"
    }
   ],
   "source": [
    "import requests\n",
    "import os\n",
    "zone_data_url = \"https://github.com/DataTalksClub/nyc-tlc-data/releases/download/misc/taxi_zone_lookup.csv\"\n",
    "result = requests.get(zone_data_url)\n",
    "dest_path = \"../data/raw/fvhv_zone\"\n",
    "fn = \"taxi_zone_lookup.csv\"\n",
    "os.makedirs(dest_path)\n",
    "open(f\"{dest_path}/{fn}\", \"wb\").write(result.content)"
   ]
  },
  {
   "cell_type": "code",
   "execution_count": 43,
   "id": "2dc0f9c7",
   "metadata": {},
   "outputs": [],
   "source": [
    "fvhv_zone_data = \"../data/raw/fvhv_zone/taxi_zone_lookup.csv\"\n",
    "df_spark_zone = spark.read.option(\"header\", \"true\").csv(fvhv_zone_data)"
   ]
  },
  {
   "cell_type": "code",
   "execution_count": 46,
   "id": "e13df1b4",
   "metadata": {},
   "outputs": [
    {
     "name": "stdout",
     "output_type": "stream",
     "text": [
      "+----------+-------------+--------------------+------------+\n",
      "|LocationID|      Borough|                Zone|service_zone|\n",
      "+----------+-------------+--------------------+------------+\n",
      "|         1|          EWR|      Newark Airport|         EWR|\n",
      "|         2|       Queens|         Jamaica Bay|   Boro Zone|\n",
      "|         3|        Bronx|Allerton/Pelham G...|   Boro Zone|\n",
      "|         4|    Manhattan|       Alphabet City| Yellow Zone|\n",
      "|         5|Staten Island|       Arden Heights|   Boro Zone|\n",
      "|         6|Staten Island|Arrochar/Fort Wad...|   Boro Zone|\n",
      "|         7|       Queens|             Astoria|   Boro Zone|\n",
      "|         8|       Queens|        Astoria Park|   Boro Zone|\n",
      "|         9|       Queens|          Auburndale|   Boro Zone|\n",
      "|        10|       Queens|        Baisley Park|   Boro Zone|\n",
      "|        11|     Brooklyn|          Bath Beach|   Boro Zone|\n",
      "|        12|    Manhattan|        Battery Park| Yellow Zone|\n",
      "|        13|    Manhattan|   Battery Park City| Yellow Zone|\n",
      "|        14|     Brooklyn|           Bay Ridge|   Boro Zone|\n",
      "|        15|       Queens|Bay Terrace/Fort ...|   Boro Zone|\n",
      "|        16|       Queens|             Bayside|   Boro Zone|\n",
      "|        17|     Brooklyn|             Bedford|   Boro Zone|\n",
      "|        18|        Bronx|        Bedford Park|   Boro Zone|\n",
      "|        19|       Queens|           Bellerose|   Boro Zone|\n",
      "|        20|        Bronx|             Belmont|   Boro Zone|\n",
      "+----------+-------------+--------------------+------------+\n",
      "only showing top 20 rows\n",
      "\n"
     ]
    }
   ],
   "source": [
    "df_spark_zone.show()"
   ]
  },
  {
   "cell_type": "code",
   "execution_count": 60,
   "id": "5fe5762c",
   "metadata": {},
   "outputs": [
    {
     "name": "stderr",
     "output_type": "stream",
     "text": [
      "\r",
      "[Stage 34:>                                                       (0 + 12) / 12]\r"
     ]
    },
    {
     "name": "stdout",
     "output_type": "stream",
     "text": [
      "+-------------------------+------+\n",
      "|Zone                     |count |\n",
      "+-------------------------+------+\n",
      "|Crown Heights North      |231279|\n",
      "|East Village             |221244|\n",
      "|JFK Airport              |188867|\n",
      "|Bushwick South           |187929|\n",
      "|East New York            |186780|\n",
      "|TriBeCa/Civic Center     |164344|\n",
      "|LaGuardia Airport        |161596|\n",
      "|Union Sq                 |158937|\n",
      "|West Village             |154698|\n",
      "|Astoria                  |152493|\n",
      "|Lower East Side          |151020|\n",
      "|East Chelsea             |147673|\n",
      "|Central Harlem North     |146402|\n",
      "|Williamsburg (North Side)|143683|\n",
      "|Park Slope               |143594|\n",
      "|Stuyvesant Heights       |141427|\n",
      "|Clinton East             |139611|\n",
      "|West Chelsea/Hudson Yards|139431|\n",
      "|Bedford                  |138428|\n",
      "|Murray Hill              |137879|\n",
      "+-------------------------+------+\n",
      "only showing top 20 rows\n",
      "\n"
     ]
    },
    {
     "name": "stderr",
     "output_type": "stream",
     "text": [
      "\r",
      "                                                                                \r"
     ]
    }
   ],
   "source": [
    "df_zone_count = df_spark_parquet \\\n",
    "    .join(df_spark_zone, df_spark_parquet.PULocationID == df_spark_zone.LocationID, \"inner\") \\\n",
    "    .groupBy(f.col(\"Zone\")) \\\n",
    "    .count().alias(\"zone_count\")\n",
    "\n",
    "df_zone_count.sort(f.col(\"count\").desc()).show(truncate=False)"
   ]
  },
  {
   "cell_type": "code",
   "execution_count": null,
   "id": "9758a892",
   "metadata": {},
   "outputs": [],
   "source": []
  }
 ],
 "metadata": {
  "kernelspec": {
   "display_name": "Python 3 (ipykernel)",
   "language": "python",
   "name": "python3"
  },
  "language_info": {
   "codemirror_mode": {
    "name": "ipython",
    "version": 3
   },
   "file_extension": ".py",
   "mimetype": "text/x-python",
   "name": "python",
   "nbconvert_exporter": "python",
   "pygments_lexer": "ipython3",
   "version": "3.10.7"
  }
 },
 "nbformat": 4,
 "nbformat_minor": 5
}
