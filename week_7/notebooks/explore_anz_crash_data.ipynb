{
 "cells": [
  {
   "cell_type": "code",
   "execution_count": 14,
   "id": "73b63886",
   "metadata": {},
   "outputs": [],
   "source": [
    "from pyspark.sql import SparkSession\n",
    "from pyspark.conf import SparkConf\n",
    "from pyspark.context import SparkContext\n",
    "import pandas as pd\n",
    "from pathlib import Path\n",
    "import numpy as np\n",
    "\n",
    "conf = SparkConf()\n",
    "conf.set(\"spark.executor.memory\", \"40g\")\n",
    "conf.set(\"spark.executor.cores\", \"2\")\n",
    "\n",
    "spark = SparkSession.builder \\\n",
    "        .appName(\"spark-app\") \\\n",
    "        .config(conf=conf) \\\n",
    "        .master(\"spark://spark-master:7077\") \\\n",
    "        .getOrCreate()"
   ]
  },
  {
   "cell_type": "code",
   "execution_count": 2,
   "id": "4e006a0f",
   "metadata": {},
   "outputs": [],
   "source": [
    "# Download Data\n",
    "from pathlib import Path\n",
    "import os\n",
    "\n",
    "data_dir = Path(os.path.abspath(\"\")).parent / \"data\"\n",
    "data_folder_name = \"anz_road_crash/anz_crash_20200903_fix/anz_crash_20200903_fix\"\n",
    "filenames = iter([\n",
    "    \"Casualties.csv\",\n",
    "    \"Crash2.csv\",\n",
    "    \"DateTime.csv\",\n",
    "    \"Description.csv\",\n",
    "    \"Location2.csv\",\n",
    "    \"Vehicles.csv\"\n",
    "])"
   ]
  },
  {
   "cell_type": "code",
   "execution_count": 4,
   "id": "16553543",
   "metadata": {},
   "outputs": [],
   "source": [
    "# Create temp tables for each files\n",
    "for file in filenames:\n",
    "    data_path = data_dir / data_folder_name / file\n",
    "    df = spark.read.csv(str(data_path), header=True)\n",
    "    df.createOrReplaceTempView(file.replace(\".csv\", \"\"))"
   ]
  },
  {
   "cell_type": "code",
   "execution_count": 8,
   "id": "4be33166",
   "metadata": {},
   "outputs": [
    {
     "name": "stdout",
     "output_type": "stream",
     "text": [
      "['casualties', 'crash2', 'datetime', 'description', 'location2', 'vehicles']\n"
     ]
    }
   ],
   "source": [
    "from pyspark import SQLContext\n",
    "\n",
    "sqlContext = SQLContext(sparkContext=spark.sparkContext)\n",
    "tables = sqlContext.tableNames()\n",
    "print(tables)"
   ]
  },
  {
   "cell_type": "code",
   "execution_count": 10,
   "id": "67f5eff3",
   "metadata": {},
   "outputs": [],
   "source": [
    "results = spark.sql(\n",
    "\"\"\"\n",
    "select speed_limit, count(speed_limit) as number\n",
    "from description\n",
    "group by speed_limit\n",
    "\"\"\"\n",
    ")"
   ]
  },
  {
   "cell_type": "code",
   "execution_count": 48,
   "id": "4382927d",
   "metadata": {},
   "outputs": [
    {
     "name": "stderr",
     "output_type": "stream",
     "text": [
      "                                                                                \r"
     ]
    },
    {
     "name": "stdout",
     "output_type": "stream",
     "text": [
      "+--------------+------+\n",
      "|   speed_limit|number|\n",
      "+--------------+------+\n",
      "|            15|    11|\n",
      "|       70 km/h| 20035|\n",
      "|          50.0|412706|\n",
      "|          90.0|   250|\n",
      "|          20.0|  1694|\n",
      "|            30|   269|\n",
      "|          15.0|     5|\n",
      "|           888|   838|\n",
      "|100 - 110 km/h| 55585|\n",
      "|           110|  6881|\n",
      "|          null|     0|\n",
      "|         110.0|     5|\n",
      "|             5|     3|\n",
      "|           100| 36336|\n",
      "|            70| 17910|\n",
      "|           999|  9615|\n",
      "|            75|    61|\n",
      "|          10.0|   470|\n",
      "|       60 km/h|170121|\n",
      "|  80 - 90 km/h| 30194|\n",
      "|          70.0| 21554|\n",
      "|            60|118725|\n",
      "|            90|  2794|\n",
      "|           5.0|     2|\n",
      "|         100.0|185463|\n",
      "|            40|  9888|\n",
      "|            25|   437|\n",
      "|   0 - 50 km/h| 52308|\n",
      "|           777|   211|\n",
      "|          60.0| 16210|\n",
      "|          30.0|  5181|\n",
      "|            20|    46|\n",
      "|            10|    33|\n",
      "|          80.0| 29926|\n",
      "|            80| 35741|\n",
      "|            50| 64698|\n",
      "|          40.0|   845|\n",
      "+--------------+------+\n",
      "\n"
     ]
    }
   ],
   "source": [
    "results.replace(r\"/[0-9]*.0/\", \"15\").show(300)\n",
    "# take note of these, make the values convertible to a float"
   ]
  },
  {
   "cell_type": "code",
   "execution_count": 60,
   "id": "67e8c104",
   "metadata": {},
   "outputs": [
    {
     "name": "stderr",
     "output_type": "stream",
     "text": [
      "                                                                                \r"
     ]
    }
   ],
   "source": [
    "df_pandas = spark.sql(\n",
    "\"\"\"\n",
    "select *\n",
    "from description\n",
    "\"\"\"\n",
    ").toPandas()\n",
    "df_pandas = df_pandas.drop(columns=df_pandas.columns[0], axis=0)"
   ]
  },
  {
   "cell_type": "code",
   "execution_count": 61,
   "id": "8217d552",
   "metadata": {},
   "outputs": [
    {
     "data": {
      "text/html": [
       "<div>\n",
       "<style scoped>\n",
       "    .dataframe tbody tr th:only-of-type {\n",
       "        vertical-align: middle;\n",
       "    }\n",
       "\n",
       "    .dataframe tbody tr th {\n",
       "        vertical-align: top;\n",
       "    }\n",
       "\n",
       "    .dataframe thead th {\n",
       "        text-align: right;\n",
       "    }\n",
       "</style>\n",
       "<table border=\"1\" class=\"dataframe\">\n",
       "  <thead>\n",
       "    <tr style=\"text-align: right;\">\n",
       "      <th></th>\n",
       "      <th>description_id</th>\n",
       "      <th>severity</th>\n",
       "      <th>speed_limit</th>\n",
       "      <th>midblock</th>\n",
       "      <th>intersection</th>\n",
       "      <th>road_position_horizontal</th>\n",
       "      <th>road_position_vertical</th>\n",
       "      <th>road_sealed</th>\n",
       "      <th>road_wet</th>\n",
       "      <th>weather</th>\n",
       "      <th>crash_type</th>\n",
       "      <th>lighting</th>\n",
       "      <th>traffic_controls</th>\n",
       "      <th>drugs_alcohol</th>\n",
       "      <th>DCA_code</th>\n",
       "      <th>comment</th>\n",
       "    </tr>\n",
       "  </thead>\n",
       "  <tbody>\n",
       "    <tr>\n",
       "      <th>0</th>\n",
       "      <td>0</td>\n",
       "      <td>property_damage</td>\n",
       "      <td>60</td>\n",
       "      <td>True</td>\n",
       "      <td>False</td>\n",
       "      <td>straight</td>\n",
       "      <td>level</td>\n",
       "      <td>True</td>\n",
       "      <td>False</td>\n",
       "      <td>fine</td>\n",
       "      <td>Right Angle</td>\n",
       "      <td>daylight</td>\n",
       "      <td>none</td>\n",
       "      <td>None</td>\n",
       "      <td>None</td>\n",
       "      <td>None</td>\n",
       "    </tr>\n",
       "    <tr>\n",
       "      <th>1</th>\n",
       "      <td>1</td>\n",
       "      <td>property_damage</td>\n",
       "      <td>40</td>\n",
       "      <td>True</td>\n",
       "      <td>False</td>\n",
       "      <td>straight</td>\n",
       "      <td>level</td>\n",
       "      <td>True</td>\n",
       "      <td>False</td>\n",
       "      <td>fine</td>\n",
       "      <td>Hit Parked Vehicle</td>\n",
       "      <td>daylight</td>\n",
       "      <td>none</td>\n",
       "      <td>None</td>\n",
       "      <td>None</td>\n",
       "      <td>None</td>\n",
       "    </tr>\n",
       "    <tr>\n",
       "      <th>2</th>\n",
       "      <td>2</td>\n",
       "      <td>property_damage</td>\n",
       "      <td>100</td>\n",
       "      <td>True</td>\n",
       "      <td>False</td>\n",
       "      <td>straight</td>\n",
       "      <td>slope</td>\n",
       "      <td>True</td>\n",
       "      <td>False</td>\n",
       "      <td>fine</td>\n",
       "      <td>Other</td>\n",
       "      <td>daylight</td>\n",
       "      <td>none</td>\n",
       "      <td>None</td>\n",
       "      <td>None</td>\n",
       "      <td>None</td>\n",
       "    </tr>\n",
       "    <tr>\n",
       "      <th>3</th>\n",
       "      <td>3</td>\n",
       "      <td>property_damage</td>\n",
       "      <td>60</td>\n",
       "      <td>False</td>\n",
       "      <td>True</td>\n",
       "      <td>straight</td>\n",
       "      <td>level</td>\n",
       "      <td>True</td>\n",
       "      <td>False</td>\n",
       "      <td>fine</td>\n",
       "      <td>Rear End</td>\n",
       "      <td>daylight</td>\n",
       "      <td>stop_sign</td>\n",
       "      <td>None</td>\n",
       "      <td>None</td>\n",
       "      <td>None</td>\n",
       "    </tr>\n",
       "    <tr>\n",
       "      <th>4</th>\n",
       "      <td>4</td>\n",
       "      <td>property_damage</td>\n",
       "      <td>60</td>\n",
       "      <td>False</td>\n",
       "      <td>True</td>\n",
       "      <td>straight</td>\n",
       "      <td>level</td>\n",
       "      <td>True</td>\n",
       "      <td>False</td>\n",
       "      <td>fine</td>\n",
       "      <td>Rear End</td>\n",
       "      <td>daylight</td>\n",
       "      <td>traffic_lights</td>\n",
       "      <td>None</td>\n",
       "      <td>None</td>\n",
       "      <td>None</td>\n",
       "    </tr>\n",
       "  </tbody>\n",
       "</table>\n",
       "</div>"
      ],
      "text/plain": [
       "  description_id         severity speed_limit midblock intersection  \\\n",
       "0              0  property_damage          60     True        False   \n",
       "1              1  property_damage          40     True        False   \n",
       "2              2  property_damage         100     True        False   \n",
       "3              3  property_damage          60    False         True   \n",
       "4              4  property_damage          60    False         True   \n",
       "\n",
       "  road_position_horizontal road_position_vertical road_sealed road_wet  \\\n",
       "0                 straight                  level        True    False   \n",
       "1                 straight                  level        True    False   \n",
       "2                 straight                  slope        True    False   \n",
       "3                 straight                  level        True    False   \n",
       "4                 straight                  level        True    False   \n",
       "\n",
       "  weather          crash_type  lighting traffic_controls drugs_alcohol  \\\n",
       "0    fine         Right Angle  daylight             none          None   \n",
       "1    fine  Hit Parked Vehicle  daylight             none          None   \n",
       "2    fine               Other  daylight             none          None   \n",
       "3    fine            Rear End  daylight        stop_sign          None   \n",
       "4    fine            Rear End  daylight   traffic_lights          None   \n",
       "\n",
       "  DCA_code comment  \n",
       "0     None    None  \n",
       "1     None    None  \n",
       "2     None    None  \n",
       "3     None    None  \n",
       "4     None    None  "
      ]
     },
     "execution_count": 61,
     "metadata": {},
     "output_type": "execute_result"
    }
   ],
   "source": [
    "df_pandas.head()"
   ]
  },
  {
   "cell_type": "code",
   "execution_count": 72,
   "id": "0e45af99",
   "metadata": {},
   "outputs": [
    {
     "data": {
      "text/html": [
       "<div>\n",
       "<style scoped>\n",
       "    .dataframe tbody tr th:only-of-type {\n",
       "        vertical-align: middle;\n",
       "    }\n",
       "\n",
       "    .dataframe tbody tr th {\n",
       "        vertical-align: top;\n",
       "    }\n",
       "\n",
       "    .dataframe thead th {\n",
       "        text-align: right;\n",
       "    }\n",
       "</style>\n",
       "<table border=\"1\" class=\"dataframe\">\n",
       "  <thead>\n",
       "    <tr style=\"text-align: right;\">\n",
       "      <th></th>\n",
       "      <th>description_id</th>\n",
       "      <th>severity</th>\n",
       "      <th>speed_limit</th>\n",
       "      <th>midblock</th>\n",
       "      <th>intersection</th>\n",
       "      <th>road_position_horizontal</th>\n",
       "      <th>road_position_vertical</th>\n",
       "      <th>road_sealed</th>\n",
       "      <th>road_wet</th>\n",
       "      <th>weather</th>\n",
       "      <th>crash_type</th>\n",
       "      <th>lighting</th>\n",
       "      <th>traffic_controls</th>\n",
       "      <th>drugs_alcohol</th>\n",
       "      <th>DCA_code</th>\n",
       "      <th>comment</th>\n",
       "    </tr>\n",
       "  </thead>\n",
       "  <tbody>\n",
       "    <tr>\n",
       "      <th>0</th>\n",
       "      <td>0</td>\n",
       "      <td>property_damage</td>\n",
       "      <td>60</td>\n",
       "      <td>True</td>\n",
       "      <td>False</td>\n",
       "      <td>straight</td>\n",
       "      <td>level</td>\n",
       "      <td>True</td>\n",
       "      <td>False</td>\n",
       "      <td>fine</td>\n",
       "      <td>Right Angle</td>\n",
       "      <td>daylight</td>\n",
       "      <td>none</td>\n",
       "      <td>0</td>\n",
       "      <td>0</td>\n",
       "      <td>0</td>\n",
       "    </tr>\n",
       "    <tr>\n",
       "      <th>1</th>\n",
       "      <td>1</td>\n",
       "      <td>property_damage</td>\n",
       "      <td>40</td>\n",
       "      <td>True</td>\n",
       "      <td>False</td>\n",
       "      <td>straight</td>\n",
       "      <td>level</td>\n",
       "      <td>True</td>\n",
       "      <td>False</td>\n",
       "      <td>fine</td>\n",
       "      <td>Hit Parked Vehicle</td>\n",
       "      <td>daylight</td>\n",
       "      <td>none</td>\n",
       "      <td>0</td>\n",
       "      <td>0</td>\n",
       "      <td>0</td>\n",
       "    </tr>\n",
       "    <tr>\n",
       "      <th>2</th>\n",
       "      <td>2</td>\n",
       "      <td>property_damage</td>\n",
       "      <td>100</td>\n",
       "      <td>True</td>\n",
       "      <td>False</td>\n",
       "      <td>straight</td>\n",
       "      <td>slope</td>\n",
       "      <td>True</td>\n",
       "      <td>False</td>\n",
       "      <td>fine</td>\n",
       "      <td>Other</td>\n",
       "      <td>daylight</td>\n",
       "      <td>none</td>\n",
       "      <td>0</td>\n",
       "      <td>0</td>\n",
       "      <td>0</td>\n",
       "    </tr>\n",
       "    <tr>\n",
       "      <th>3</th>\n",
       "      <td>3</td>\n",
       "      <td>property_damage</td>\n",
       "      <td>60</td>\n",
       "      <td>False</td>\n",
       "      <td>True</td>\n",
       "      <td>straight</td>\n",
       "      <td>level</td>\n",
       "      <td>True</td>\n",
       "      <td>False</td>\n",
       "      <td>fine</td>\n",
       "      <td>Rear End</td>\n",
       "      <td>daylight</td>\n",
       "      <td>stop_sign</td>\n",
       "      <td>0</td>\n",
       "      <td>0</td>\n",
       "      <td>0</td>\n",
       "    </tr>\n",
       "    <tr>\n",
       "      <th>4</th>\n",
       "      <td>4</td>\n",
       "      <td>property_damage</td>\n",
       "      <td>60</td>\n",
       "      <td>False</td>\n",
       "      <td>True</td>\n",
       "      <td>straight</td>\n",
       "      <td>level</td>\n",
       "      <td>True</td>\n",
       "      <td>False</td>\n",
       "      <td>fine</td>\n",
       "      <td>Rear End</td>\n",
       "      <td>daylight</td>\n",
       "      <td>traffic_lights</td>\n",
       "      <td>0</td>\n",
       "      <td>0</td>\n",
       "      <td>0</td>\n",
       "    </tr>\n",
       "    <tr>\n",
       "      <th>...</th>\n",
       "      <td>...</td>\n",
       "      <td>...</td>\n",
       "      <td>...</td>\n",
       "      <td>...</td>\n",
       "      <td>...</td>\n",
       "      <td>...</td>\n",
       "      <td>...</td>\n",
       "      <td>...</td>\n",
       "      <td>...</td>\n",
       "      <td>...</td>\n",
       "      <td>...</td>\n",
       "      <td>...</td>\n",
       "      <td>...</td>\n",
       "      <td>...</td>\n",
       "      <td>...</td>\n",
       "      <td>...</td>\n",
       "    </tr>\n",
       "    <tr>\n",
       "      <th>1519450</th>\n",
       "      <td>1519450</td>\n",
       "      <td>serious_injury</td>\n",
       "      <td>0</td>\n",
       "      <td>True</td>\n",
       "      <td>False</td>\n",
       "      <td>0</td>\n",
       "      <td>0</td>\n",
       "      <td>True</td>\n",
       "      <td>False</td>\n",
       "      <td>fine</td>\n",
       "      <td>0</td>\n",
       "      <td>darkness_lit</td>\n",
       "      <td>0</td>\n",
       "      <td>0</td>\n",
       "      <td>0</td>\n",
       "      <td>0</td>\n",
       "    </tr>\n",
       "    <tr>\n",
       "      <th>1519451</th>\n",
       "      <td>1519451</td>\n",
       "      <td>property_damage</td>\n",
       "      <td>0</td>\n",
       "      <td>False</td>\n",
       "      <td>True</td>\n",
       "      <td>0</td>\n",
       "      <td>0</td>\n",
       "      <td>True</td>\n",
       "      <td>False</td>\n",
       "      <td>fine</td>\n",
       "      <td>0</td>\n",
       "      <td>daylight</td>\n",
       "      <td>0</td>\n",
       "      <td>0</td>\n",
       "      <td>0</td>\n",
       "      <td>0</td>\n",
       "    </tr>\n",
       "    <tr>\n",
       "      <th>1519452</th>\n",
       "      <td>1519452</td>\n",
       "      <td>property_damage</td>\n",
       "      <td>0</td>\n",
       "      <td>False</td>\n",
       "      <td>True</td>\n",
       "      <td>0</td>\n",
       "      <td>0</td>\n",
       "      <td>True</td>\n",
       "      <td>False</td>\n",
       "      <td>fine</td>\n",
       "      <td>0</td>\n",
       "      <td>daylight</td>\n",
       "      <td>0</td>\n",
       "      <td>0</td>\n",
       "      <td>0</td>\n",
       "      <td>0</td>\n",
       "    </tr>\n",
       "    <tr>\n",
       "      <th>1519453</th>\n",
       "      <td>1519453</td>\n",
       "      <td>property_damage</td>\n",
       "      <td>0</td>\n",
       "      <td>True</td>\n",
       "      <td>False</td>\n",
       "      <td>0</td>\n",
       "      <td>0</td>\n",
       "      <td>True</td>\n",
       "      <td>False</td>\n",
       "      <td>fine</td>\n",
       "      <td>0</td>\n",
       "      <td>daylight</td>\n",
       "      <td>0</td>\n",
       "      <td>0</td>\n",
       "      <td>0</td>\n",
       "      <td>0</td>\n",
       "    </tr>\n",
       "    <tr>\n",
       "      <th>1519454</th>\n",
       "      <td>1519454</td>\n",
       "      <td>property_damage</td>\n",
       "      <td>0</td>\n",
       "      <td>True</td>\n",
       "      <td>False</td>\n",
       "      <td>0</td>\n",
       "      <td>0</td>\n",
       "      <td>True</td>\n",
       "      <td>False</td>\n",
       "      <td>fine</td>\n",
       "      <td>0</td>\n",
       "      <td>daylight</td>\n",
       "      <td>0</td>\n",
       "      <td>0</td>\n",
       "      <td>0</td>\n",
       "      <td>0</td>\n",
       "    </tr>\n",
       "  </tbody>\n",
       "</table>\n",
       "<p>1191212 rows × 16 columns</p>\n",
       "</div>"
      ],
      "text/plain": [
       "        description_id         severity speed_limit midblock intersection  \\\n",
       "0                    0  property_damage          60     True        False   \n",
       "1                    1  property_damage          40     True        False   \n",
       "2                    2  property_damage         100     True        False   \n",
       "3                    3  property_damage          60    False         True   \n",
       "4                    4  property_damage          60    False         True   \n",
       "...                ...              ...         ...      ...          ...   \n",
       "1519450        1519450   serious_injury           0     True        False   \n",
       "1519451        1519451  property_damage           0    False         True   \n",
       "1519452        1519452  property_damage           0    False         True   \n",
       "1519453        1519453  property_damage           0     True        False   \n",
       "1519454        1519454  property_damage           0     True        False   \n",
       "\n",
       "        road_position_horizontal road_position_vertical road_sealed road_wet  \\\n",
       "0                       straight                  level        True    False   \n",
       "1                       straight                  level        True    False   \n",
       "2                       straight                  slope        True    False   \n",
       "3                       straight                  level        True    False   \n",
       "4                       straight                  level        True    False   \n",
       "...                          ...                    ...         ...      ...   \n",
       "1519450                        0                      0        True    False   \n",
       "1519451                        0                      0        True    False   \n",
       "1519452                        0                      0        True    False   \n",
       "1519453                        0                      0        True    False   \n",
       "1519454                        0                      0        True    False   \n",
       "\n",
       "        weather          crash_type      lighting traffic_controls  \\\n",
       "0          fine         Right Angle      daylight             none   \n",
       "1          fine  Hit Parked Vehicle      daylight             none   \n",
       "2          fine               Other      daylight             none   \n",
       "3          fine            Rear End      daylight        stop_sign   \n",
       "4          fine            Rear End      daylight   traffic_lights   \n",
       "...         ...                 ...           ...              ...   \n",
       "1519450    fine                   0  darkness_lit                0   \n",
       "1519451    fine                   0      daylight                0   \n",
       "1519452    fine                   0      daylight                0   \n",
       "1519453    fine                   0      daylight                0   \n",
       "1519454    fine                   0      daylight                0   \n",
       "\n",
       "        drugs_alcohol DCA_code comment  \n",
       "0                   0        0       0  \n",
       "1                   0        0       0  \n",
       "2                   0        0       0  \n",
       "3                   0        0       0  \n",
       "4                   0        0       0  \n",
       "...               ...      ...     ...  \n",
       "1519450             0        0       0  \n",
       "1519451             0        0       0  \n",
       "1519452             0        0       0  \n",
       "1519453             0        0       0  \n",
       "1519454             0        0       0  \n",
       "\n",
       "[1191212 rows x 16 columns]"
      ]
     },
     "execution_count": 72,
     "metadata": {},
     "output_type": "execute_result"
    }
   ],
   "source": [
    "# fill = df_pandas.fillna(0)\n",
    "# fill[fill[\"speed_limit\"].apply(lambda x: isinstance(x, (str)))]\n",
    "fill[pd.to_numeric(fill[\"speed_limit\"], errors='coerce').notnull()]"
   ]
  },
  {
   "cell_type": "code",
   "execution_count": 59,
   "id": "8ec48f9e",
   "metadata": {},
   "outputs": [
    {
     "ename": "AttributeError",
     "evalue": "'NoneType' object has no attribute 'isnumeric'",
     "output_type": "error",
     "traceback": [
      "\u001b[0;31m---------------------------------------------------------------------------\u001b[0m",
      "\u001b[0;31mAttributeError\u001b[0m                            Traceback (most recent call last)",
      "Cell \u001b[0;32mIn[59], line 1\u001b[0m\n\u001b[0;32m----> 1\u001b[0m df_pandas[\u001b[43mdf_pandas\u001b[49m\u001b[43m[\u001b[49m\u001b[38;5;124;43m\"\u001b[39;49m\u001b[38;5;124;43mspeed_limit\u001b[39;49m\u001b[38;5;124;43m\"\u001b[39;49m\u001b[43m]\u001b[49m\u001b[38;5;241;43m.\u001b[39;49m\u001b[43mapply\u001b[49m\u001b[43m(\u001b[49m\u001b[38;5;28;43;01mlambda\u001b[39;49;00m\u001b[43m \u001b[49m\u001b[43mx\u001b[49m\u001b[43m:\u001b[49m\u001b[43m \u001b[49m\u001b[43mx\u001b[49m\u001b[38;5;241;43m.\u001b[39;49m\u001b[43misnumeric\u001b[49m\u001b[43m(\u001b[49m\u001b[43m)\u001b[49m\u001b[43m)\u001b[49m]\n",
      "File \u001b[0;32m/usr/local/lib/python3.9/dist-packages/pandas/core/series.py:4771\u001b[0m, in \u001b[0;36mSeries.apply\u001b[0;34m(self, func, convert_dtype, args, **kwargs)\u001b[0m\n\u001b[1;32m   4661\u001b[0m \u001b[38;5;28;01mdef\u001b[39;00m \u001b[38;5;21mapply\u001b[39m(\n\u001b[1;32m   4662\u001b[0m     \u001b[38;5;28mself\u001b[39m,\n\u001b[1;32m   4663\u001b[0m     func: AggFuncType,\n\u001b[0;32m   (...)\u001b[0m\n\u001b[1;32m   4666\u001b[0m     \u001b[38;5;241m*\u001b[39m\u001b[38;5;241m*\u001b[39mkwargs,\n\u001b[1;32m   4667\u001b[0m ) \u001b[38;5;241m-\u001b[39m\u001b[38;5;241m>\u001b[39m DataFrame \u001b[38;5;241m|\u001b[39m Series:\n\u001b[1;32m   4668\u001b[0m \u001b[38;5;250m    \u001b[39m\u001b[38;5;124;03m\"\"\"\u001b[39;00m\n\u001b[1;32m   4669\u001b[0m \u001b[38;5;124;03m    Invoke function on values of Series.\u001b[39;00m\n\u001b[1;32m   4670\u001b[0m \n\u001b[0;32m   (...)\u001b[0m\n\u001b[1;32m   4769\u001b[0m \u001b[38;5;124;03m    dtype: float64\u001b[39;00m\n\u001b[1;32m   4770\u001b[0m \u001b[38;5;124;03m    \"\"\"\u001b[39;00m\n\u001b[0;32m-> 4771\u001b[0m     \u001b[38;5;28;01mreturn\u001b[39;00m \u001b[43mSeriesApply\u001b[49m\u001b[43m(\u001b[49m\u001b[38;5;28;43mself\u001b[39;49m\u001b[43m,\u001b[49m\u001b[43m \u001b[49m\u001b[43mfunc\u001b[49m\u001b[43m,\u001b[49m\u001b[43m \u001b[49m\u001b[43mconvert_dtype\u001b[49m\u001b[43m,\u001b[49m\u001b[43m \u001b[49m\u001b[43margs\u001b[49m\u001b[43m,\u001b[49m\u001b[43m \u001b[49m\u001b[43mkwargs\u001b[49m\u001b[43m)\u001b[49m\u001b[38;5;241;43m.\u001b[39;49m\u001b[43mapply\u001b[49m\u001b[43m(\u001b[49m\u001b[43m)\u001b[49m\n",
      "File \u001b[0;32m/usr/local/lib/python3.9/dist-packages/pandas/core/apply.py:1123\u001b[0m, in \u001b[0;36mSeriesApply.apply\u001b[0;34m(self)\u001b[0m\n\u001b[1;32m   1120\u001b[0m     \u001b[38;5;28;01mreturn\u001b[39;00m \u001b[38;5;28mself\u001b[39m\u001b[38;5;241m.\u001b[39mapply_str()\n\u001b[1;32m   1122\u001b[0m \u001b[38;5;66;03m# self.f is Callable\u001b[39;00m\n\u001b[0;32m-> 1123\u001b[0m \u001b[38;5;28;01mreturn\u001b[39;00m \u001b[38;5;28;43mself\u001b[39;49m\u001b[38;5;241;43m.\u001b[39;49m\u001b[43mapply_standard\u001b[49m\u001b[43m(\u001b[49m\u001b[43m)\u001b[49m\n",
      "File \u001b[0;32m/usr/local/lib/python3.9/dist-packages/pandas/core/apply.py:1174\u001b[0m, in \u001b[0;36mSeriesApply.apply_standard\u001b[0;34m(self)\u001b[0m\n\u001b[1;32m   1172\u001b[0m     \u001b[38;5;28;01melse\u001b[39;00m:\n\u001b[1;32m   1173\u001b[0m         values \u001b[38;5;241m=\u001b[39m obj\u001b[38;5;241m.\u001b[39mastype(\u001b[38;5;28mobject\u001b[39m)\u001b[38;5;241m.\u001b[39m_values\n\u001b[0;32m-> 1174\u001b[0m         mapped \u001b[38;5;241m=\u001b[39m \u001b[43mlib\u001b[49m\u001b[38;5;241;43m.\u001b[39;49m\u001b[43mmap_infer\u001b[49m\u001b[43m(\u001b[49m\n\u001b[1;32m   1175\u001b[0m \u001b[43m            \u001b[49m\u001b[43mvalues\u001b[49m\u001b[43m,\u001b[49m\n\u001b[1;32m   1176\u001b[0m \u001b[43m            \u001b[49m\u001b[43mf\u001b[49m\u001b[43m,\u001b[49m\n\u001b[1;32m   1177\u001b[0m \u001b[43m            \u001b[49m\u001b[43mconvert\u001b[49m\u001b[38;5;241;43m=\u001b[39;49m\u001b[38;5;28;43mself\u001b[39;49m\u001b[38;5;241;43m.\u001b[39;49m\u001b[43mconvert_dtype\u001b[49m\u001b[43m,\u001b[49m\n\u001b[1;32m   1178\u001b[0m \u001b[43m        \u001b[49m\u001b[43m)\u001b[49m\n\u001b[1;32m   1180\u001b[0m \u001b[38;5;28;01mif\u001b[39;00m \u001b[38;5;28mlen\u001b[39m(mapped) \u001b[38;5;129;01mand\u001b[39;00m \u001b[38;5;28misinstance\u001b[39m(mapped[\u001b[38;5;241m0\u001b[39m], ABCSeries):\n\u001b[1;32m   1181\u001b[0m     \u001b[38;5;66;03m# GH#43986 Need to do list(mapped) in order to get treated as nested\u001b[39;00m\n\u001b[1;32m   1182\u001b[0m     \u001b[38;5;66;03m#  See also GH#25959 regarding EA support\u001b[39;00m\n\u001b[1;32m   1183\u001b[0m     \u001b[38;5;28;01mreturn\u001b[39;00m obj\u001b[38;5;241m.\u001b[39m_constructor_expanddim(\u001b[38;5;28mlist\u001b[39m(mapped), index\u001b[38;5;241m=\u001b[39mobj\u001b[38;5;241m.\u001b[39mindex)\n",
      "File \u001b[0;32m/usr/local/lib/python3.9/dist-packages/pandas/_libs/lib.pyx:2924\u001b[0m, in \u001b[0;36mpandas._libs.lib.map_infer\u001b[0;34m()\u001b[0m\n",
      "Cell \u001b[0;32mIn[59], line 1\u001b[0m, in \u001b[0;36m<lambda>\u001b[0;34m(x)\u001b[0m\n\u001b[0;32m----> 1\u001b[0m df_pandas[df_pandas[\u001b[38;5;124m\"\u001b[39m\u001b[38;5;124mspeed_limit\u001b[39m\u001b[38;5;124m\"\u001b[39m]\u001b[38;5;241m.\u001b[39mapply(\u001b[38;5;28;01mlambda\u001b[39;00m x: \u001b[43mx\u001b[49m\u001b[38;5;241;43m.\u001b[39;49m\u001b[43misnumeric\u001b[49m())]\n",
      "\u001b[0;31mAttributeError\u001b[0m: 'NoneType' object has no attribute 'isnumeric'"
     ]
    }
   ],
   "source": []
  },
  {
   "cell_type": "code",
   "execution_count": 3,
   "id": "b4a83dba",
   "metadata": {},
   "outputs": [
    {
     "name": "stderr",
     "output_type": "stream",
     "text": [
      "                                                                                \r"
     ]
    },
    {
     "name": "stdout",
     "output_type": "stream",
     "text": [
      "+----+-------------+----------+----------+----------------+--------------+\n",
      "| _c0|casualties_id|casualties|fatalities|serious_injuries|minor_injuries|\n",
      "+----+-------------+----------+----------+----------------+--------------+\n",
      "|   0|           0c|       0.0|       0.0|             0.0|           0.0|\n",
      "|  16|         1c1m|       1.0|       0.0|             0.0|           1.0|\n",
      "|  57|         2c2m|       2.0|       0.0|             0.0|           2.0|\n",
      "| 270|         1c1s|       1.0|       0.0|             1.0|           0.0|\n",
      "| 573|         1c1f|       1.0|       1.0|             0.0|           0.0|\n",
      "| 649|         4c4m|       4.0|       0.0|             0.0|           4.0|\n",
      "| 670|       2c1s1m|       2.0|       0.0|             1.0|           1.0|\n",
      "| 882|       3c1f2s|       3.0|       1.0|             2.0|           0.0|\n",
      "| 889|       8c1f7s|       8.0|       1.0|             7.0|           0.0|\n",
      "| 956|         3c3m|       3.0|       0.0|             0.0|           3.0|\n",
      "|1413|         2c2s|       2.0|       0.0|             2.0|           0.0|\n",
      "|1856|       4c2s2m|       4.0|       0.0|             2.0|           2.0|\n",
      "|1928|         5c5m|       5.0|       0.0|             0.0|           5.0|\n",
      "|2513|         3c3s|       3.0|       0.0|             3.0|           0.0|\n",
      "|2730|         4c4s|       4.0|       0.0|             4.0|           0.0|\n",
      "|2787|       3c1s2m|       3.0|       0.0|             1.0|           2.0|\n",
      "|3189|       3c1f2m|       3.0|       1.0|             0.0|           2.0|\n",
      "|4319|       2c1f1m|       2.0|       1.0|             0.0|           1.0|\n",
      "|4350|       4c3s1m|       4.0|       0.0|             3.0|           1.0|\n",
      "|4406|       4c1s3m|       4.0|       0.0|             1.0|           3.0|\n",
      "+----+-------------+----------+----------+----------------+--------------+\n",
      "only showing top 20 rows\n",
      "\n"
     ]
    }
   ],
   "source": [
    "data_path = data_dir / data_folder_name / next(filenames)\n",
    "print(data_path)\n",
    "df_casualties = spark.read.csv(str(data_path), header=True)\n",
    "df_casualties.show()"
   ]
  },
  {
   "cell_type": "code",
   "execution_count": 5,
   "id": "ee0c0922",
   "metadata": {},
   "outputs": [
    {
     "name": "stdout",
     "output_type": "stream",
     "text": [
      "['_c0', 'casualties_id', 'casualties', 'fatalities', 'serious_injuries', 'minor_injuries']\n",
      "StructType(List(StructField(_c0,StringType,true),StructField(casualties_id,StringType,true),StructField(casualties,StringType,true),StructField(fatalities,StringType,true),StructField(serious_injuries,StringType,true),StructField(minor_injuries,StringType,true)))\n",
      "259\n"
     ]
    }
   ],
   "source": [
    "print(df_casualties.columns)\n",
    "print(df_casualties.schema)\n",
    "print(df_casualties.count())"
   ]
  },
  {
   "cell_type": "code",
   "execution_count": 6,
   "id": "ab04aa10",
   "metadata": {},
   "outputs": [
    {
     "name": "stdout",
     "output_type": "stream",
     "text": [
      "/opt/workspace/data/anz_road_crash/anz_crash_20200903_fix/anz_crash_20200903_fix/Crash2.csv\n"
     ]
    }
   ],
   "source": [
    "data_path = data_dir / data_folder_name / next(filenames)\n",
    "print(data_path)"
   ]
  },
  {
   "cell_type": "code",
   "execution_count": 7,
   "id": "6a9f588f",
   "metadata": {},
   "outputs": [
    {
     "name": "stdout",
     "output_type": "stream",
     "text": [
      "+--------------------+--------------------+------------+--------------+-----------+-------------+\n",
      "|            crash_id|            lat_long|date_time_id|description_id|vehicles_id|casualties_id|\n",
      "+--------------------+--------------------+------------+--------------+-----------+-------------+\n",
      "| SA2012-1-21/08/2019|(-34.914968707994...|2012-1--7-16|             0|       1c1b|           0c|\n",
      "| SA2012-2-21/08/2019|(-34.945411892314...| 2012-1--7-9|             1|         2c|           0c|\n",
      "| SA2012-3-21/08/2019|(-35.348782706688...|2012-1--3-11|             2|       2c1i|           0c|\n",
      "| SA2012-4-21/08/2019|(-34.910890136635...|2012-1--3-10|             3|         2w|           0c|\n",
      "| SA2012-5-21/08/2019|(-34.905235082470...|2012-1--3-15|             4|       1c1w|           0c|\n",
      "| SA2012-6-21/08/2019|(-34.978174108493...|2012-1--5-11|             5|         4c|           0c|\n",
      "| SA2012-7-21/08/2019|(-34.902922403654...|2012-1--4-13|             6|         2c|           0c|\n",
      "| SA2012-8-21/08/2019|(-34.852871580567...|2012-1--5-16|             7|         2c|           0c|\n",
      "| SA2012-9-21/08/2019|(-34.874931616666...|2012-1--6-10|             8|         2c|           0c|\n",
      "|SA2012-10-21/08/2019|                null|2012-1--6-15|             9|         2c|           0c|\n",
      "|SA2012-11-21/08/2019|(-35.166165005446...|2012-1--1-13|            10|         2c|           0c|\n",
      "|SA2012-12-21/08/2019|                null|2012-1--1-14|            11|       2c1t|           0c|\n",
      "|SA2012-13-21/08/2019|(-34.876569303615...|2012-1--1-15|            12|       1c1T|           0c|\n",
      "|SA2012-14-21/08/2019|(-35.058573538711...|2012-1--4-11|            13|       1c1b|           0c|\n",
      "|SA2012-15-21/08/2019|(-34.929556750407...|2012-1--2-17|            14|         2c|           0c|\n",
      "|SA2012-16-21/08/2019|(-34.907646731147...|2012-1--3-13|            15|       1c1b|           0c|\n",
      "|SA2012-17-21/08/2019|(-34.834629076665...| 2012-1--3-6|            16|       1c1w|         1c1m|\n",
      "|SA2012-18-21/08/2019|(-34.874443649497...|2012-1--2-12|            17|       1c1v|           0c|\n",
      "|SA2012-19-21/08/2019|(-34.868093499250...|2012-1--4-16|            18|       1c1b|           0c|\n",
      "|SA2012-20-21/08/2019|(-34.858403204506...|2012-1--4-13|            19|         2c|           0c|\n",
      "+--------------------+--------------------+------------+--------------+-----------+-------------+\n",
      "only showing top 20 rows\n",
      "\n"
     ]
    }
   ],
   "source": [
    "df_crash = spark.read.csv(str(data_path), header=True)\n",
    "df_crash.show()"
   ]
  },
  {
   "cell_type": "code",
   "execution_count": 8,
   "id": "b4e21420",
   "metadata": {},
   "outputs": [
    {
     "name": "stderr",
     "output_type": "stream",
     "text": [
      "                                                                                \r"
     ]
    },
    {
     "data": {
      "text/plain": [
       "1519455"
      ]
     },
     "execution_count": 8,
     "metadata": {},
     "output_type": "execute_result"
    }
   ],
   "source": [
    "df_crash.count()"
   ]
  },
  {
   "cell_type": "code",
   "execution_count": 9,
   "id": "a186caec",
   "metadata": {},
   "outputs": [
    {
     "name": "stdout",
     "output_type": "stream",
     "text": [
      "/opt/workspace/data/anz_road_crash/anz_crash_20200903_fix/anz_crash_20200903_fix/DateTime.csv\n"
     ]
    }
   ],
   "source": [
    "data_path = data_dir / data_folder_name / next(filenames)\n",
    "print(data_path)"
   ]
  },
  {
   "cell_type": "code",
   "execution_count": 10,
   "id": "c98bb3ce",
   "metadata": {},
   "outputs": [
    {
     "name": "stdout",
     "output_type": "stream",
     "text": [
      "+---+------------+----+-----+-----------+------------+----+-----------+\n",
      "|_c0|date_time_id|year|month|day_of_week|day_of_month|hour|approximate|\n",
      "+---+------------+----+-----+-----------+------------+----+-----------+\n",
      "|  0|2012-1--7-16|2012|  1.0|        7.0|        null|16.0|       True|\n",
      "|  1| 2012-1--7-9|2012|  1.0|        7.0|        null| 9.0|       True|\n",
      "|  2|2012-1--3-11|2012|  1.0|        3.0|        null|11.0|       True|\n",
      "|  3|2012-1--3-10|2012|  1.0|        3.0|        null|10.0|       True|\n",
      "|  4|2012-1--3-15|2012|  1.0|        3.0|        null|15.0|       True|\n",
      "|  5|2012-1--5-11|2012|  1.0|        5.0|        null|11.0|       True|\n",
      "|  6|2012-1--4-13|2012|  1.0|        4.0|        null|13.0|       True|\n",
      "|  7|2012-1--5-16|2012|  1.0|        5.0|        null|16.0|       True|\n",
      "|  8|2012-1--6-10|2012|  1.0|        6.0|        null|10.0|       True|\n",
      "|  9|2012-1--6-15|2012|  1.0|        6.0|        null|15.0|       True|\n",
      "| 10|2012-1--1-13|2012|  1.0|        1.0|        null|13.0|       True|\n",
      "| 11|2012-1--1-14|2012|  1.0|        1.0|        null|14.0|       True|\n",
      "| 12|2012-1--1-15|2012|  1.0|        1.0|        null|15.0|       True|\n",
      "| 13|2012-1--4-11|2012|  1.0|        4.0|        null|11.0|       True|\n",
      "| 14|2012-1--2-17|2012|  1.0|        2.0|        null|17.0|       True|\n",
      "| 15|2012-1--3-13|2012|  1.0|        3.0|        null|13.0|       True|\n",
      "| 16| 2012-1--3-6|2012|  1.0|        3.0|        null| 6.0|       True|\n",
      "| 17|2012-1--2-12|2012|  1.0|        2.0|        null|12.0|       True|\n",
      "| 18|2012-1--4-16|2012|  1.0|        4.0|        null|16.0|       True|\n",
      "| 20|2012-1--4-18|2012|  1.0|        4.0|        null|18.0|       True|\n",
      "+---+------------+----+-----+-----------+------------+----+-----------+\n",
      "only showing top 20 rows\n",
      "\n"
     ]
    }
   ],
   "source": [
    "df_datetime = spark.read.csv(str(data_path), header=True)\n",
    "df_datetime.show()"
   ]
  },
  {
   "cell_type": "code",
   "execution_count": 11,
   "id": "3caa7c76",
   "metadata": {},
   "outputs": [
    {
     "data": {
      "text/plain": [
       "127505"
      ]
     },
     "execution_count": 11,
     "metadata": {},
     "output_type": "execute_result"
    }
   ],
   "source": [
    "df_datetime.count()"
   ]
  },
  {
   "cell_type": "code",
   "execution_count": 12,
   "id": "a7a754d0",
   "metadata": {},
   "outputs": [
    {
     "name": "stdout",
     "output_type": "stream",
     "text": [
      "/opt/workspace/data/anz_road_crash/anz_crash_20200903_fix/anz_crash_20200903_fix/Description.csv\n"
     ]
    }
   ],
   "source": [
    "data_path = data_dir / data_folder_name / next(filenames)\n",
    "print(data_path)"
   ]
  },
  {
   "cell_type": "code",
   "execution_count": 13,
   "id": "9dc0806c",
   "metadata": {},
   "outputs": [
    {
     "name": "stdout",
     "output_type": "stream",
     "text": [
      "+---+--------------+---------------+-----------+--------+------------+------------------------+----------------------+-----------+--------+-------+------------------+--------+----------------+-------------+--------+-------+\n",
      "|_c0|description_id|       severity|speed_limit|midblock|intersection|road_position_horizontal|road_position_vertical|road_sealed|road_wet|weather|        crash_type|lighting|traffic_controls|drugs_alcohol|DCA_code|comment|\n",
      "+---+--------------+---------------+-----------+--------+------------+------------------------+----------------------+-----------+--------+-------+------------------+--------+----------------+-------------+--------+-------+\n",
      "|  0|             0|property_damage|         60|    True|       False|                straight|                 level|       True|   False|   fine|       Right Angle|daylight|            none|         null|    null|   null|\n",
      "|  1|             1|property_damage|         40|    True|       False|                straight|                 level|       True|   False|   fine|Hit Parked Vehicle|daylight|            none|         null|    null|   null|\n",
      "|  2|             2|property_damage|        100|    True|       False|                straight|                 slope|       True|   False|   fine|             Other|daylight|            none|         null|    null|   null|\n",
      "|  3|             3|property_damage|         60|   False|        True|                straight|                 level|       True|   False|   fine|          Rear End|daylight|       stop_sign|         null|    null|   null|\n",
      "|  4|             4|property_damage|         60|   False|        True|                straight|                 level|       True|   False|   fine|          Rear End|daylight|  traffic_lights|         null|    null|   null|\n",
      "|  5|             5|property_damage|         60|   False|        True|                straight|                 level|       True|   False|   fine|          Rear End|daylight|  traffic_lights|         null|    null|   null|\n",
      "|  6|             6|property_damage|         60|    True|       False|                straight|                 level|       True|   False|   fine|        Side Swipe|daylight|            none|         null|    null|   null|\n",
      "|  7|             7|property_damage|         60|   False|        True|                straight|                 level|       True|   False|   fine|          Rear End|daylight|  traffic_lights|         null|    null|   null|\n",
      "|  8|             8|property_damage|         60|   False|        True|                straight|                 level|       True|   False|   fine|          Rear End|daylight|  traffic_lights|         null|    null|   null|\n",
      "|  9|             9|property_damage|         50|   False|        True|                straight|                 level|       True|   False|   fine|          Rear End|daylight|  traffic_lights|         null|    null|   null|\n",
      "| 10|            10|property_damage|         80|   False|        True|                straight|                 level|       True|   False|   fine|          Rear End|daylight|  traffic_lights|         null|    null|   null|\n",
      "| 11|            11|property_damage|         80|    True|       False|                straight|                 level|       True|   False|   fine|          Rear End|daylight|            none|         null|    null|   null|\n",
      "| 12|            12|property_damage|         60|    True|       False|                straight|                 level|       True|   False|   fine|          Rear End|daylight|            none|         null|    null|   null|\n",
      "| 13|            13|property_damage|         60|   False|        True|                straight|                 slope|       True|   False|   fine|       Right Angle|daylight|            none|         null|    null|   null|\n",
      "| 14|            14|property_damage|         50|   False|        True|                straight|                 level|       True|   False|   fine|       Right Angle|daylight|            none|         null|    null|   null|\n",
      "| 15|            15|property_damage|         50|   False|        True|                straight|                 level|       True|   False|   fine|        Right Turn|daylight|  traffic_lights|         null|    null|   null|\n",
      "| 16|            16|   minor_injury|         60|   False|        True|                straight|                 level|       True|   False|   fine|          Rear End|daylight|  traffic_lights|         null|    null|   null|\n",
      "| 17|            17|property_damage|         60|   False|        True|                straight|                 level|       True|   False|   fine|        Right Turn|daylight|  traffic_lights|         null|    null|   null|\n",
      "| 18|            18|property_damage|         50|    True|       False|                straight|                 level|       True|   False|   fine|           Head On|daylight|            none|         null|    null|   null|\n",
      "| 19|            19|property_damage|         70|   False|        True|                straight|                 level|       True|   False|   fine|          Rear End|daylight|  traffic_lights|         null|    null|   null|\n",
      "+---+--------------+---------------+-----------+--------+------------+------------------------+----------------------+-----------+--------+-------+------------------+--------+----------------+-------------+--------+-------+\n",
      "only showing top 20 rows\n",
      "\n"
     ]
    }
   ],
   "source": [
    "df_description = spark.read.csv(str(data_path), header=True)\n",
    "df_description.show()"
   ]
  },
  {
   "cell_type": "code",
   "execution_count": 24,
   "id": "767ad80c",
   "metadata": {},
   "outputs": [
    {
     "name": "stdout",
     "output_type": "stream",
     "text": [
      "1519455\n"
     ]
    },
    {
     "data": {
      "text/plain": [
       "[Row(description_id='575', drugs_alcohol='Y'),\n",
       " Row(description_id='602', drugs_alcohol='Y'),\n",
       " Row(description_id='603', drugs_alcohol='Y'),\n",
       " Row(description_id='605', drugs_alcohol='Y'),\n",
       " Row(description_id='612', drugs_alcohol='Y'),\n",
       " Row(description_id='618', drugs_alcohol='Y'),\n",
       " Row(description_id='627', drugs_alcohol='Y'),\n",
       " Row(description_id='628', drugs_alcohol='Y'),\n",
       " Row(description_id='634', drugs_alcohol='Y'),\n",
       " Row(description_id='655', drugs_alcohol='Y'),\n",
       " Row(description_id='686', drugs_alcohol='Y'),\n",
       " Row(description_id='691', drugs_alcohol='Y'),\n",
       " Row(description_id='731', drugs_alcohol='Y'),\n",
       " Row(description_id='791', drugs_alcohol='Y'),\n",
       " Row(description_id='822', drugs_alcohol='Y'),\n",
       " Row(description_id='941', drugs_alcohol='Y'),\n",
       " Row(description_id='966', drugs_alcohol='Y'),\n",
       " Row(description_id='968', drugs_alcohol='Y'),\n",
       " Row(description_id='983', drugs_alcohol='Y'),\n",
       " Row(description_id='985', drugs_alcohol='Y'),\n",
       " Row(description_id='986', drugs_alcohol='Y'),\n",
       " Row(description_id='1019', drugs_alcohol='Y'),\n",
       " Row(description_id='1021', drugs_alcohol='Y'),\n",
       " Row(description_id='1129', drugs_alcohol='Y'),\n",
       " Row(description_id='1132', drugs_alcohol='Y'),\n",
       " Row(description_id='1162', drugs_alcohol='Y'),\n",
       " Row(description_id='1181', drugs_alcohol='Y'),\n",
       " Row(description_id='1202', drugs_alcohol='Y'),\n",
       " Row(description_id='1219', drugs_alcohol='Y'),\n",
       " Row(description_id='1225', drugs_alcohol='Y'),\n",
       " Row(description_id='1414', drugs_alcohol='Y'),\n",
       " Row(description_id='1415', drugs_alcohol='Y'),\n",
       " Row(description_id='1559', drugs_alcohol='Y'),\n",
       " Row(description_id='1575', drugs_alcohol='Y'),\n",
       " Row(description_id='1615', drugs_alcohol='Y'),\n",
       " Row(description_id='1626', drugs_alcohol='Y'),\n",
       " Row(description_id='1630', drugs_alcohol='Y'),\n",
       " Row(description_id='1670', drugs_alcohol='Y'),\n",
       " Row(description_id='1672', drugs_alcohol='Y'),\n",
       " Row(description_id='1737', drugs_alcohol='Y'),\n",
       " Row(description_id='1770', drugs_alcohol='Y'),\n",
       " Row(description_id='1817', drugs_alcohol='Y'),\n",
       " Row(description_id='1847', drugs_alcohol='Y'),\n",
       " Row(description_id='1849', drugs_alcohol='Y'),\n",
       " Row(description_id='1851', drugs_alcohol='Y'),\n",
       " Row(description_id='1855', drugs_alcohol='Y'),\n",
       " Row(description_id='1860', drugs_alcohol='Y'),\n",
       " Row(description_id='1966', drugs_alcohol='Y'),\n",
       " Row(description_id='1969', drugs_alcohol='Y'),\n",
       " Row(description_id='1971', drugs_alcohol='Y')]"
      ]
     },
     "execution_count": 24,
     "metadata": {},
     "output_type": "execute_result"
    }
   ],
   "source": [
    "print(df_description.count())\n",
    "\n",
    "df_description.createOrReplaceTempView(\"descriptions\")\n",
    "results = spark.sql(\n",
    "\"\"\"\n",
    "select description_id, drugs_alcohol\n",
    "from descriptions\n",
    "where drugs_alcohol is not null\n",
    "-- limit 100\n",
    "\"\"\"\n",
    ")\n",
    "results.take(50)"
   ]
  },
  {
   "cell_type": "code",
   "execution_count": 18,
   "id": "218b3ccf",
   "metadata": {},
   "outputs": [
    {
     "name": "stdout",
     "output_type": "stream",
     "text": [
      "/opt/workspace/data/anz_road_crash/anz_crash_20200903_fix/anz_crash_20200903_fix/Location2.csv\n"
     ]
    }
   ],
   "source": [
    "data_path = data_dir / data_folder_name / next(filenames)\n",
    "print(data_path)"
   ]
  },
  {
   "cell_type": "code",
   "execution_count": 19,
   "id": "479a8d4c",
   "metadata": {},
   "outputs": [
    {
     "name": "stdout",
     "output_type": "stream",
     "text": [
      "+--------------------+-------------------+------------------+-------+-----+---------------------+----------------+---------------+\n",
      "|            lat_long|           latitude|         longitude|country|state|local_government_area|statistical_area|         suburb|\n",
      "+--------------------+-------------------+------------------+-------+-----+---------------------+----------------+---------------+\n",
      "|(-34.914968707994...|-34.914968707994774|138.62326191400015|     AU|   SA| CC OF NORWOOD,PAY...|            null|        STEPNEY|\n",
      "|(-34.945411892314...|-34.945411892314496| 138.6106907387375|     AU|   SA|        CITY OF UNLEY|            null|       PARKSIDE|\n",
      "|(-35.348782706688...|-35.348782706688546| 138.4547384995269|     AU|   SA|  CITY OF ONKAPARINGA|            null| SELLICKS BEACH|\n",
      "|(-34.910890136635...| -34.91089013663556|138.56464045685533|     AU|   SA| CITY OF CHARLES S...|            null|      HINDMARSH|\n",
      "|(-34.905235082470...| -34.90523508247097|138.57241145966046|     AU|   SA| CITY OF CHARLES S...|            null|      HINDMARSH|\n",
      "|(-34.978174108493...|-34.978174108493754|138.57376004526358|     AU|   SA| CC MITCHAM.      ...|            null|   MELROSE PARK|\n",
      "|(-34.902922403654...|  -34.9029224036547| 138.6093903534067|     AU|   SA|     CITY OF ADELAIDE|            null| NORTH ADELAIDE|\n",
      "|(-34.852871580567...|-34.852871580567644|138.66513799353126|     AU|   SA| CITY OF TEA TREE ...|            null|    HOLDEN HILL|\n",
      "|(-34.874931616666...|-34.874931616666274|138.57550181195174|     AU|   SA| CITY OF PORT ADEL...|            null|   REGENCY PARK|\n",
      "|(-35.166165005446...|  -35.1661650054462|138.50829581861018|     AU|   SA|  CITY OF ONKAPARINGA|            null|NOARLUNGA DOWNS|\n",
      "|(-34.876569303615...| -34.87656930361508|138.52803923278765|     AU|   SA| CITY OF CHARLES S...|            null|     CHELTENHAM|\n",
      "|(-35.058573538711...| -35.05857353871109|138.61741011520448|     AU|   SA|  CITY OF ONKAPARINGA|            null| FLAGSTAFF HILL|\n",
      "|(-34.929556750407...| -34.92955675040729| 138.6500774861653|     AU|   SA| CC OF NORWOOD,PAY...|            null|   MARRYATVILLE|\n",
      "|(-34.907646731147...|-34.907646731147736|138.60119173640265|     AU|   SA|     CITY OF ADELAIDE|            null| NORTH ADELAIDE|\n",
      "|(-34.834629076665...|-34.834629076665266|138.62654823263514|     AU|   SA|    CITY OF SALISBURY|            null|WALKLEY HEIGHTS|\n",
      "|(-34.874443649497...| -34.87444364949772|138.58409906531142|     AU|   SA|     CITY OF PROSPECT|            null|       PROSPECT|\n",
      "|(-34.868093499250...|-34.868093499250804|138.57320510441076|     AU|   SA| CITY OF PORT ADEL...|            null|   REGENCY PARK|\n",
      "|(-34.858403204506...|-34.858403204506914|  138.566029728514|     AU|   SA| CITY OF PORT ADEL...|            null|   REGENCY PARK|\n",
      "|(-35.016628523670...| -35.01662852367086|138.56985170127658|     AU|   SA| CC MITCHAM.      ...|            null|   BEDFORD PARK|\n",
      "|(-34.764246510248...|-34.764246510248064|138.64478368133533|     AU|   SA|    CITY OF SALISBURY|            null|      SALISBURY|\n",
      "+--------------------+-------------------+------------------+-------+-----+---------------------+----------------+---------------+\n",
      "only showing top 20 rows\n",
      "\n"
     ]
    }
   ],
   "source": [
    "df_location = spark.read.csv(str(data_path), header=True)\n",
    "df_location.show()"
   ]
  },
  {
   "cell_type": "code",
   "execution_count": 18,
   "id": "159c74b4",
   "metadata": {},
   "outputs": [
    {
     "data": {
      "text/plain": [
       "918263"
      ]
     },
     "execution_count": 18,
     "metadata": {},
     "output_type": "execute_result"
    }
   ],
   "source": [
    "df_location.count()"
   ]
  },
  {
   "cell_type": "code",
   "execution_count": 20,
   "id": "2285d02a",
   "metadata": {},
   "outputs": [
    {
     "name": "stdout",
     "output_type": "stream",
     "text": [
      "/opt/workspace/data/anz_road_crash/anz_crash_20200903_fix/anz_crash_20200903_fix/Vehicles.csv\n"
     ]
    }
   ],
   "source": [
    "data_path = data_dir / data_folder_name / next(filenames)\n",
    "print(data_path)"
   ]
  },
  {
   "cell_type": "code",
   "execution_count": 21,
   "id": "104556bc",
   "metadata": {},
   "outputs": [
    {
     "name": "stdout",
     "output_type": "stream",
     "text": [
      "+---+-----------+-------+---------+-----------+-------+-------+-----------------+-----------+-----------+-----------+---+----+-------+-------+----------+---------+-----+----+-------------+\n",
      "|_c0|vehicles_id|animals|car_sedan|car_utility|car_van|car_4x4|car_station_wagon|motor_cycle|truck_small|truck_large|bus|taxi|bicycle|scooter|pedestrian|inanimate|train|tram|vehicle_other|\n",
      "+---+-----------+-------+---------+-----------+-------+-------+-----------------+-----------+-----------+-----------+---+----+-------+-------+----------+---------+-----+----+-------------+\n",
      "|  0|       1c1b|    0.0|      1.0|        0.0|    0.0|    0.0|              0.0|        0.0|        0.0|        0.0|0.0| 0.0|    1.0|    0.0|       0.0|      0.0|  0.0| 0.0|          0.0|\n",
      "|  1|         2c|    0.0|      2.0|        0.0|    0.0|    0.0|              0.0|        0.0|        0.0|        0.0|0.0| 0.0|    0.0|    0.0|       0.0|      0.0|  0.0| 0.0|          0.0|\n",
      "|  2|       2c1i|    0.0|      2.0|        0.0|    0.0|    0.0|              0.0|        0.0|        0.0|        0.0|0.0| 0.0|    0.0|    0.0|       0.0|      1.0|  0.0| 0.0|          0.0|\n",
      "|  3|         2w|    0.0|      0.0|        0.0|    0.0|    0.0|              2.0|        0.0|        0.0|        0.0|0.0| 0.0|    0.0|    0.0|       0.0|      0.0|  0.0| 0.0|          0.0|\n",
      "|  4|       1c1w|    0.0|      1.0|        0.0|    0.0|    0.0|              1.0|        0.0|        0.0|        0.0|0.0| 0.0|    0.0|    0.0|       0.0|      0.0|  0.0| 0.0|          0.0|\n",
      "|  5|         4c|    0.0|      4.0|        0.0|    0.0|    0.0|              0.0|        0.0|        0.0|        0.0|0.0| 0.0|    0.0|    0.0|       0.0|      0.0|  0.0| 0.0|          0.0|\n",
      "| 11|       2c1t|    0.0|      2.0|        0.0|    0.0|    0.0|              0.0|        0.0|        1.0|        0.0|0.0| 0.0|    0.0|    0.0|       0.0|      0.0|  0.0| 0.0|          0.0|\n",
      "| 12|       1c1T|    0.0|      1.0|        0.0|    0.0|    0.0|              0.0|        0.0|        0.0|        1.0|0.0| 0.0|    0.0|    0.0|       0.0|      0.0|  0.0| 0.0|          0.0|\n",
      "| 17|       1c1v|    0.0|      1.0|        0.0|    1.0|    0.0|              0.0|        0.0|        0.0|        0.0|0.0| 0.0|    0.0|    0.0|       0.0|      0.0|  0.0| 0.0|          0.0|\n",
      "| 23|       1c1u|    0.0|      1.0|        1.0|    0.0|    0.0|              0.0|        0.0|        0.0|        0.0|0.0| 0.0|    0.0|    0.0|       0.0|      0.0|  0.0| 0.0|          0.0|\n",
      "| 24|       1x1b|    0.0|      0.0|        0.0|    0.0|    0.0|              0.0|        0.0|        0.0|        0.0|0.0| 1.0|    1.0|    0.0|       0.0|      0.0|  0.0| 0.0|          0.0|\n",
      "| 28|         3c|    0.0|      3.0|        0.0|    0.0|    0.0|              0.0|        0.0|        0.0|        0.0|0.0| 0.0|    0.0|    0.0|       0.0|      0.0|  0.0| 0.0|          0.0|\n",
      "| 30|       1u1w|    0.0|      0.0|        1.0|    0.0|    0.0|              1.0|        0.0|        0.0|        0.0|0.0| 0.0|    0.0|    0.0|       0.0|      0.0|  0.0| 0.0|          0.0|\n",
      "| 31|       1w1b|    0.0|      0.0|        0.0|    0.0|    0.0|              1.0|        0.0|        0.0|        0.0|0.0| 0.0|    1.0|    0.0|       0.0|      0.0|  0.0| 0.0|          0.0|\n",
      "| 34|     1u1v1w|    0.0|      0.0|        1.0|    1.0|    0.0|              1.0|        0.0|        0.0|        0.0|0.0| 0.0|    0.0|    0.0|       0.0|      0.0|  0.0| 0.0|          0.0|\n",
      "| 35|       2c1B|    0.0|      2.0|        0.0|    0.0|    0.0|              0.0|        0.0|        0.0|        0.0|1.0| 0.0|    0.0|    0.0|       0.0|      0.0|  0.0| 0.0|          0.0|\n",
      "| 48|       1c1x|    0.0|      1.0|        0.0|    0.0|    0.0|              0.0|        0.0|        0.0|        0.0|0.0| 1.0|    0.0|    0.0|       0.0|      0.0|  0.0| 0.0|          0.0|\n",
      "| 53|       2c1w|    0.0|      2.0|        0.0|    0.0|    0.0|              1.0|        0.0|        0.0|        0.0|0.0| 0.0|    0.0|    0.0|       0.0|      0.0|  0.0| 0.0|          0.0|\n",
      "| 61|       1c1B|    0.0|      1.0|        0.0|    0.0|    0.0|              0.0|        0.0|        0.0|        0.0|1.0| 0.0|    0.0|    0.0|       0.0|      0.0|  0.0| 0.0|          0.0|\n",
      "| 67|       1u1b|    0.0|      0.0|        1.0|    0.0|    0.0|              0.0|        0.0|        0.0|        0.0|0.0| 0.0|    1.0|    0.0|       0.0|      0.0|  0.0| 0.0|          0.0|\n",
      "+---+-----------+-------+---------+-----------+-------+-------+-----------------+-----------+-----------+-----------+---+----+-------+-------+----------+---------+-----+----+-------------+\n",
      "only showing top 20 rows\n",
      "\n"
     ]
    }
   ],
   "source": [
    "df_vehicle = spark.read.csv(str(data_path), header=True)\n",
    "df_vehicle.show()"
   ]
  },
  {
   "cell_type": "code",
   "execution_count": 21,
   "id": "ec6a4f38",
   "metadata": {},
   "outputs": [
    {
     "data": {
      "text/plain": [
       "2434"
      ]
     },
     "execution_count": 21,
     "metadata": {},
     "output_type": "execute_result"
    }
   ],
   "source": [
    "df_vehicle.count()"
   ]
  },
  {
   "cell_type": "code",
   "execution_count": 22,
   "id": "5ee1b31a",
   "metadata": {},
   "outputs": [],
   "source": [
    "df_casualties.createOrReplaceTempView(\"Casualties\")\n",
    "df_crash.createOrReplaceTempView(\"crash\")\n",
    "df_datetime.createOrReplaceTempView(\"Datetime\")\n",
    "df_description.createOrReplaceTempView(\"Description\")\n",
    "df_location.createOrReplaceTempView(\"Location\")\n",
    "df_vehicle.createOrReplaceTempView(\"Vehicle\")"
   ]
  },
  {
   "cell_type": "code",
   "execution_count": 25,
   "id": "ca7d7364",
   "metadata": {},
   "outputs": [],
   "source": []
  },
  {
   "cell_type": "code",
   "execution_count": 47,
   "id": "f5770d1c",
   "metadata": {},
   "outputs": [
    {
     "name": "stderr",
     "output_type": "stream",
     "text": [
      "/tmp/ipykernel_34/3373948655.py:2: DtypeWarning: Columns (3,6,7,8,9,10,11,12,13,14,16) have mixed types. Specify dtype option on import or set low_memory=False.\n",
      "  df = pd.read_csv(data_path)\n"
     ]
    },
    {
     "data": {
      "text/html": [
       "<div>\n",
       "<style scoped>\n",
       "    .dataframe tbody tr th:only-of-type {\n",
       "        vertical-align: middle;\n",
       "    }\n",
       "\n",
       "    .dataframe tbody tr th {\n",
       "        vertical-align: top;\n",
       "    }\n",
       "\n",
       "    .dataframe thead th {\n",
       "        text-align: right;\n",
       "    }\n",
       "</style>\n",
       "<table border=\"1\" class=\"dataframe\">\n",
       "  <thead>\n",
       "    <tr style=\"text-align: right;\">\n",
       "      <th></th>\n",
       "      <th>description_id</th>\n",
       "      <th>severity</th>\n",
       "      <th>speed_limit</th>\n",
       "      <th>midblock</th>\n",
       "      <th>intersection</th>\n",
       "      <th>road_position_horizontal</th>\n",
       "      <th>road_position_vertical</th>\n",
       "      <th>road_sealed</th>\n",
       "      <th>road_wet</th>\n",
       "      <th>weather</th>\n",
       "      <th>crash_type</th>\n",
       "      <th>lighting</th>\n",
       "      <th>traffic_controls</th>\n",
       "      <th>drugs_alcohol</th>\n",
       "      <th>DCA_code</th>\n",
       "      <th>comment</th>\n",
       "    </tr>\n",
       "  </thead>\n",
       "  <tbody>\n",
       "    <tr>\n",
       "      <th>1</th>\n",
       "      <td>1</td>\n",
       "      <td>property_damage</td>\n",
       "      <td>40</td>\n",
       "      <td>True</td>\n",
       "      <td>False</td>\n",
       "      <td>straight</td>\n",
       "      <td>level</td>\n",
       "      <td>True</td>\n",
       "      <td>False</td>\n",
       "      <td>fine</td>\n",
       "      <td>Hit Parked Vehicle</td>\n",
       "      <td>daylight</td>\n",
       "      <td>none</td>\n",
       "      <td>NaN</td>\n",
       "      <td>NaN</td>\n",
       "      <td>NaN</td>\n",
       "    </tr>\n",
       "    <tr>\n",
       "      <th>2</th>\n",
       "      <td>2</td>\n",
       "      <td>property_damage</td>\n",
       "      <td>100</td>\n",
       "      <td>True</td>\n",
       "      <td>False</td>\n",
       "      <td>straight</td>\n",
       "      <td>slope</td>\n",
       "      <td>True</td>\n",
       "      <td>False</td>\n",
       "      <td>fine</td>\n",
       "      <td>Other</td>\n",
       "      <td>daylight</td>\n",
       "      <td>none</td>\n",
       "      <td>NaN</td>\n",
       "      <td>NaN</td>\n",
       "      <td>NaN</td>\n",
       "    </tr>\n",
       "    <tr>\n",
       "      <th>3</th>\n",
       "      <td>3</td>\n",
       "      <td>property_damage</td>\n",
       "      <td>60</td>\n",
       "      <td>False</td>\n",
       "      <td>True</td>\n",
       "      <td>straight</td>\n",
       "      <td>level</td>\n",
       "      <td>True</td>\n",
       "      <td>False</td>\n",
       "      <td>fine</td>\n",
       "      <td>Rear End</td>\n",
       "      <td>daylight</td>\n",
       "      <td>stop_sign</td>\n",
       "      <td>NaN</td>\n",
       "      <td>NaN</td>\n",
       "      <td>NaN</td>\n",
       "    </tr>\n",
       "    <tr>\n",
       "      <th>4</th>\n",
       "      <td>4</td>\n",
       "      <td>property_damage</td>\n",
       "      <td>60</td>\n",
       "      <td>False</td>\n",
       "      <td>True</td>\n",
       "      <td>straight</td>\n",
       "      <td>level</td>\n",
       "      <td>True</td>\n",
       "      <td>False</td>\n",
       "      <td>fine</td>\n",
       "      <td>Rear End</td>\n",
       "      <td>daylight</td>\n",
       "      <td>traffic_lights</td>\n",
       "      <td>NaN</td>\n",
       "      <td>NaN</td>\n",
       "      <td>NaN</td>\n",
       "    </tr>\n",
       "    <tr>\n",
       "      <th>5</th>\n",
       "      <td>5</td>\n",
       "      <td>property_damage</td>\n",
       "      <td>60</td>\n",
       "      <td>False</td>\n",
       "      <td>True</td>\n",
       "      <td>straight</td>\n",
       "      <td>level</td>\n",
       "      <td>True</td>\n",
       "      <td>False</td>\n",
       "      <td>fine</td>\n",
       "      <td>Rear End</td>\n",
       "      <td>daylight</td>\n",
       "      <td>traffic_lights</td>\n",
       "      <td>NaN</td>\n",
       "      <td>NaN</td>\n",
       "      <td>NaN</td>\n",
       "    </tr>\n",
       "  </tbody>\n",
       "</table>\n",
       "</div>"
      ],
      "text/plain": [
       "   description_id         severity speed_limit  midblock  intersection  \\\n",
       "1               1  property_damage          40      True         False   \n",
       "2               2  property_damage         100      True         False   \n",
       "3               3  property_damage          60     False          True   \n",
       "4               4  property_damage          60     False          True   \n",
       "5               5  property_damage          60     False          True   \n",
       "\n",
       "  road_position_horizontal road_position_vertical road_sealed road_wet  \\\n",
       "1                 straight                  level        True    False   \n",
       "2                 straight                  slope        True    False   \n",
       "3                 straight                  level        True    False   \n",
       "4                 straight                  level        True    False   \n",
       "5                 straight                  level        True    False   \n",
       "\n",
       "  weather          crash_type  lighting traffic_controls drugs_alcohol  \\\n",
       "1    fine  Hit Parked Vehicle  daylight             none           NaN   \n",
       "2    fine               Other  daylight             none           NaN   \n",
       "3    fine            Rear End  daylight        stop_sign           NaN   \n",
       "4    fine            Rear End  daylight   traffic_lights           NaN   \n",
       "5    fine            Rear End  daylight   traffic_lights           NaN   \n",
       "\n",
       "   DCA_code comment  \n",
       "1       NaN     NaN  \n",
       "2       NaN     NaN  \n",
       "3       NaN     NaN  \n",
       "4       NaN     NaN  \n",
       "5       NaN     NaN  "
      ]
     },
     "execution_count": 47,
     "metadata": {},
     "output_type": "execute_result"
    }
   ],
   "source": [
    "data_path = Path(os.path.abspath(\"\")).parent / \"data\" / \"anz_road_crash\" / \"anz_crash_20200903_fix/anz_crash_20200903_fix\" / \"Description.csv\"\n",
    "df = pd.read_csv(data_path)\n",
    "df = df.drop(columns=df.columns[0], index=0)\n",
    "df.head()"
   ]
  },
  {
   "cell_type": "code",
   "execution_count": 56,
   "id": "3b4b1638",
   "metadata": {},
   "outputs": [
    {
     "name": "stdout",
     "output_type": "stream",
     "text": [
      "1            40\n",
      "2           100\n",
      "3            60\n",
      "4            60\n",
      "5            60\n",
      "           ... \n",
      "1519450    <NA>\n",
      "1519451    <NA>\n",
      "1519452    <NA>\n",
      "1519453    <NA>\n",
      "1519454    <NA>\n",
      "Name: speed_limit, Length: 1519454, dtype: string\n"
     ]
    }
   ],
   "source": [
    "speed_limit = df[\"speed_limit\"].astype('string')\n",
    "print(speed_limit)"
   ]
  },
  {
   "cell_type": "code",
   "execution_count": 59,
   "id": "d9c6f3f7",
   "metadata": {},
   "outputs": [
    {
     "name": "stdout",
     "output_type": "stream",
     "text": [
      "Series([], Name: speed_limit, dtype: string)\n"
     ]
    }
   ],
   "source": [
    "res = speed_limit.filter(like='-')\n",
    "print(res)"
   ]
  },
  {
   "cell_type": "code",
   "execution_count": 27,
   "id": "978be3f5",
   "metadata": {},
   "outputs": [
    {
     "data": {
      "text/plain": [
       "StructType(List(StructField(crash_id,StringType,true),StructField(lat_long,StringType,true),StructField(date_time_id,StringType,true),StructField(description_id,StringType,true),StructField(vehicles_id,StringType,true),StructField(casualties_id,StringType,true)))"
      ]
     },
     "execution_count": 27,
     "metadata": {},
     "output_type": "execute_result"
    }
   ],
   "source": [
    "df_crash.schema"
   ]
  },
  {
   "cell_type": "code",
   "execution_count": 28,
   "id": "ce013381",
   "metadata": {},
   "outputs": [
    {
     "data": {
      "text/plain": [
       "StructType(List(StructField(_c0,StringType,true),StructField(date_time_id,StringType,true),StructField(year,StringType,true),StructField(month,StringType,true),StructField(day_of_week,StringType,true),StructField(day_of_month,StringType,true),StructField(hour,StringType,true),StructField(approximate,StringType,true)))"
      ]
     },
     "execution_count": 28,
     "metadata": {},
     "output_type": "execute_result"
    }
   ],
   "source": [
    "df_datetime.schema"
   ]
  },
  {
   "cell_type": "code",
   "execution_count": 29,
   "id": "dd4f8bae",
   "metadata": {},
   "outputs": [
    {
     "data": {
      "text/plain": [
       "StructType(List(StructField(_c0,StringType,true),StructField(description_id,StringType,true),StructField(severity,StringType,true),StructField(speed_limit,StringType,true),StructField(midblock,StringType,true),StructField(intersection,StringType,true),StructField(road_position_horizontal,StringType,true),StructField(road_position_vertical,StringType,true),StructField(road_sealed,StringType,true),StructField(road_wet,StringType,true),StructField(weather,StringType,true),StructField(crash_type,StringType,true),StructField(lighting,StringType,true),StructField(traffic_controls,StringType,true),StructField(drugs_alcohol,StringType,true),StructField(DCA_code,StringType,true),StructField(comment,StringType,true)))"
      ]
     },
     "execution_count": 29,
     "metadata": {},
     "output_type": "execute_result"
    }
   ],
   "source": [
    "df_description.schema"
   ]
  },
  {
   "cell_type": "code",
   "execution_count": 30,
   "id": "827d3fef",
   "metadata": {},
   "outputs": [
    {
     "data": {
      "text/plain": [
       "StructType(List(StructField(lat_long,StringType,true),StructField(latitude,StringType,true),StructField(longitude,StringType,true),StructField(country,StringType,true),StructField(state,StringType,true),StructField(local_government_area,StringType,true),StructField(statistical_area,StringType,true),StructField(suburb,StringType,true)))"
      ]
     },
     "execution_count": 30,
     "metadata": {},
     "output_type": "execute_result"
    }
   ],
   "source": [
    "df_location.schema"
   ]
  },
  {
   "cell_type": "code",
   "execution_count": 31,
   "id": "22021a05",
   "metadata": {},
   "outputs": [
    {
     "data": {
      "text/plain": [
       "StructType(List(StructField(_c0,StringType,true),StructField(vehicles_id,StringType,true),StructField(animals,StringType,true),StructField(car_sedan,StringType,true),StructField(car_utility,StringType,true),StructField(car_van,StringType,true),StructField(car_4x4,StringType,true),StructField(car_station_wagon,StringType,true),StructField(motor_cycle,StringType,true),StructField(truck_small,StringType,true),StructField(truck_large,StringType,true),StructField(bus,StringType,true),StructField(taxi,StringType,true),StructField(bicycle,StringType,true),StructField(scooter,StringType,true),StructField(pedestrian,StringType,true),StructField(inanimate,StringType,true),StructField(train,StringType,true),StructField(tram,StringType,true),StructField(vehicle_other,StringType,true)))"
      ]
     },
     "execution_count": 31,
     "metadata": {},
     "output_type": "execute_result"
    }
   ],
   "source": [
    "df_vehicle.schema"
   ]
  },
  {
   "cell_type": "code",
   "execution_count": null,
   "id": "6fb7d67f",
   "metadata": {},
   "outputs": [],
   "source": [
    "schema_casualty = "
   ]
  }
 ],
 "metadata": {
  "kernelspec": {
   "display_name": "Python 3 (ipykernel)",
   "language": "python",
   "name": "python3"
  },
  "language_info": {
   "codemirror_mode": {
    "name": "ipython",
    "version": 3
   },
   "file_extension": ".py",
   "mimetype": "text/x-python",
   "name": "python",
   "nbconvert_exporter": "python",
   "pygments_lexer": "ipython3",
   "version": "3.9.2"
  }
 },
 "nbformat": 4,
 "nbformat_minor": 5
}
